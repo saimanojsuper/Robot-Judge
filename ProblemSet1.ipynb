{
 "cells": [
  {
   "cell_type": "markdown",
   "metadata": {},
   "source": [
    "## Building a Robot Judge\n",
    "### Problem Set 1"
   ]
  },
  {
   "cell_type": "code",
   "execution_count": 1,
   "metadata": {},
   "outputs": [
    {
     "name": "stderr",
     "output_type": "stream",
     "text": [
      "Using TensorFlow backend.\n"
     ]
    }
   ],
   "source": [
    "#*************#\n",
    "#   imports   #\n",
    "#*************#\n",
    "\n",
    "import matplotlib.pyplot as plt\n",
    "import numpy as np\n",
    "import os\n",
    "import pandas as pd\n",
    "import spacy\n",
    "\n",
    "from keras import backend as K\n",
    "from keras.layers import Input, Dense, Activation\n",
    "from keras.models import Model\n",
    "from nltk.sentiment.vader import SentimentIntensityAnalyzer\n",
    "from sklearn import svm\n",
    "from sklearn import preprocessing\n",
    "from sklearn.cluster import KMeans\n",
    "from sklearn.feature_extraction.text import TfidfVectorizer\n",
    "from sklearn.metrics import auc\n",
    "from sklearn.metrics import roc_curve\n",
    "from sklearn.metrics.pairwise import cosine_similarity\n",
    "from sklearn.model_selection import GridSearchCV\n",
    "\n",
    "\n",
    "nlp = spacy.load('en')"
   ]
  },
  {
   "cell_type": "markdown",
   "metadata": {},
   "source": [
    "### 1."
   ]
  },
  {
   "cell_type": "code",
   "execution_count": 2,
   "metadata": {},
   "outputs": [],
   "source": [
    "####################################################################################################\n",
    "#                                                                                                  #\n",
    "# Use spaCy to process all cases. Split the documents into sentences and tokens. Compute number    #\n",
    "# of sentences, words, and letters for each document. Report histograms for these statistics.      #\n",
    "#                                                                                                  #\n",
    "####################################################################################################"
   ]
  },
  {
   "cell_type": "code",
   "execution_count": 3,
   "metadata": {},
   "outputs": [],
   "source": [
    "#****************************#\n",
    "#   load and prepare cases   #\n",
    "#****************************#\n",
    "casesList = os.listdir(\"cases/\")\n",
    "\n",
    "# only take 1000 for testing purpose (now all)\n",
    "testNumber = len(casesList)\n",
    "\n",
    "# create dict for storing properties as follows:\n",
    "# {\"case ID\": [case year, # sentences, # words, # letters, # nouns, # verbs, # adjectives]}\n",
    "casesDict = {caseName: [int(caseName[:4])] for caseName in casesList[:testNumber]}\n",
    "\n",
    "cases = [nlp(open(\"cases/\" + caseName).read()) for caseName in casesList[:testNumber]]"
   ]
  },
  {
   "cell_type": "code",
   "execution_count": 4,
   "metadata": {},
   "outputs": [],
   "source": [
    "#*********************#\n",
    "#   sentence tokens   #\n",
    "#*********************#\n",
    "for i, case in enumerate(cases):\n",
    "    for num, sentence in enumerate(case.sents):\n",
    "        # not sure if I have to store sentences of each case or what to do after spliting\n",
    "        # into sentences, but I could do this here...\n",
    "        pass\n",
    "    \n",
    "    casesDict[casesList[i]].append(num)\n",
    "\n",
    "# print(casesDict)"
   ]
  },
  {
   "cell_type": "code",
   "execution_count": 5,
   "metadata": {},
   "outputs": [],
   "source": [
    "#*****************************#\n",
    "#   word tokens and letters   #\n",
    "#*****************************#\n",
    "for i, case in enumerate(cases):\n",
    "    letters = 0\n",
    "    for num, token in enumerate(case):\n",
    "        # not sure if I have to store tokens of each case or what to do after spliting\n",
    "        # into tokens, but I could do this here...\n",
    "        letters += len(token.text)\n",
    "    \n",
    "    casesDict[casesList[i]].append(num)\n",
    "    casesDict[casesList[i]].append(letters)\n",
    "\n",
    "# print(casesDict)"
   ]
  },
  {
   "cell_type": "code",
   "execution_count": 6,
   "metadata": {},
   "outputs": [
    {
     "data": {
      "image/png": "[encoded data removed]",
      "text/plain": [
       "<Figure size 432x288 with 1 Axes>"
      ]
     },
     "metadata": {
      "needs_background": "light"
     },
     "output_type": "display_data"
    },
    {
     "data": {
      "image/png": "[encoded data removed]",
      "text/plain": [
       "<Figure size 432x288 with 1 Axes>"
      ]
     },
     "metadata": {
      "needs_background": "light"
     },
     "output_type": "display_data"
    },
    {
     "data": {
      "image/png": "[encoded data removed]",
      "text/plain": [
       "<Figure size 432x288 with 1 Axes>"
      ]
     },
     "metadata": {
      "needs_background": "light"
     },
     "output_type": "display_data"
    }
   ],
   "source": [
    "#******************************#\n",
    "#   histograms of case-stats   #\n",
    "#******************************#\n",
    "y = [i+1 for i in range(len(casesDict))]\n",
    "\n",
    "plt.hist(y, bins=len(casesDict), weights=[casesDict[key][1] for key in casesDict.keys()], \n",
    "         color='r', align='mid')\n",
    "plt.title(\"# Sentences\")\n",
    "plt.xlabel(\"Cases\")\n",
    "plt.show()\n",
    "plt.hist(y, bins=len(casesDict), weights=[casesDict[key][2] for key in casesDict.keys()], \n",
    "         color='g', align='mid')\n",
    "plt.title(\"# Words\")\n",
    "plt.xlabel(\"Cases\")\n",
    "plt.show()\n",
    "plt.hist(y, bins=len(casesDict), weights=[casesDict[key][3] for key in casesDict.keys()], \n",
    "         color='b', align='mid')\n",
    "plt.title(\"# Letters\")\n",
    "plt.xlabel(\"Cases\")\n",
    "plt.show()\n",
    "\n",
    "# I put them seperarly because the # sentences were not visible comparted to # letters\n",
    "# but one can still compare which sentences have lots of words, which cases use longer wordes, etc.\n",
    "# (I'll be happy to change it, if it is any inconvenience)"
   ]
  },
  {
   "cell_type": "markdown",
   "metadata": {},
   "source": [
    "### 2."
   ]
  },
  {
   "cell_type": "code",
   "execution_count": 7,
   "metadata": {},
   "outputs": [],
   "source": [
    "####################################################################################################\n",
    "#                                                                                                  #\n",
    "# Use the spaCy parts of speech (POS) tags to count number of nouns, verbs, and adjectives in      #\n",
    "# each document. Visualize POS frequency by year.                                                  #\n",
    "#                                                                                                  #\n",
    "####################################################################################################"
   ]
  },
  {
   "cell_type": "code",
   "execution_count": 8,
   "metadata": {},
   "outputs": [],
   "source": [
    "#*********************************#\n",
    "#   nouns, verbs and adjectives   #\n",
    "#*********************************#\n",
    "for i, case in enumerate(cases):\n",
    "    nouns = 0\n",
    "    verbs = 0\n",
    "    adjectives = 0\n",
    "    for token in case:\n",
    "        if token.pos_ == \"NOUN\":\n",
    "            nouns += 1\n",
    "        elif token.pos_ == \"VERB\":\n",
    "            verbs += 1\n",
    "        elif token.pos_ == \"ADJ\":\n",
    "            adjectives += 1\n",
    "    \n",
    "    casesDict[casesList[i]].append(nouns)\n",
    "    casesDict[casesList[i]].append(verbs)\n",
    "    casesDict[casesList[i]].append(adjectives)\n",
    "\n",
    "# print(casesDict)"
   ]
  },
  {
   "cell_type": "code",
   "execution_count": 9,
   "metadata": {},
   "outputs": [
    {
     "data": {
      "image/png": "[encoded data removed]",
      "text/plain": [
       "<Figure size 432x288 with 1 Axes>"
      ]
     },
     "metadata": {
      "needs_background": "light"
     },
     "output_type": "display_data"
    }
   ],
   "source": [
    "#*************************************#\n",
    "#   visualize POS frequency by year   #\n",
    "#*************************************#\n",
    "\n",
    "# make sure to modify range if new cases/years join\n",
    "years = [{\"noun\":0, \"verb\":0, \"adj\":0} for i in range(1924, 2014)]\n",
    "\n",
    "for value in casesDict.values():\n",
    "    years[value[0]-1924][\"noun\"] += value[4]   # the case year minus 1924 will give the index\n",
    "    years[value[0]-1924][\"verb\"] += value[5]   # representing the actual year\n",
    "    years[value[0]-1924][\"adj\"] += value[6]\n",
    "\n",
    "x = [i for i in range(1924, 2014)]  \n",
    "\n",
    "plt.hist(x, bins=2014-1924, weights=[years[i][\"noun\"] for i in range(2014-1924)], \n",
    "         alpha=0.5, label='nouns')\n",
    "\n",
    "plt.hist(x, bins=2014-1924, weights=[years[i][\"verb\"] for i in range(2014-1924)], \n",
    "         alpha=0.5, label='verbs')\n",
    "\n",
    "plt.hist(x, bins=2014-1924, weights=[years[i][\"adj\"] for i in range(2014-1924)],\n",
    "         alpha=0.5, label='adjs')\n",
    "\n",
    "plt.legend(loc='upper left')\n",
    "plt.show()"
   ]
  },
  {
   "cell_type": "markdown",
   "metadata": {},
   "source": [
    "### 3."
   ]
  },
  {
   "cell_type": "code",
   "execution_count": 10,
   "metadata": {},
   "outputs": [],
   "source": [
    "####################################################################################################\n",
    "#                                                                                                  #\n",
    "# Follow the steps in lecture to normalize your corpus (e.g., removing punctuation) and discuss    #\n",
    "# your choices about what information to exclude. Using the normalized tokens, make a feature      #\n",
    "# set of all trigrams that end in a noun.                                                          #\n",
    "#                                                                                                  #\n",
    "####################################################################################################"
   ]
  },
  {
   "cell_type": "code",
   "execution_count": 11,
   "metadata": {},
   "outputs": [],
   "source": [
    "#**********************#\n",
    "#   normalize corpus   #\n",
    "#**********************#\n",
    "normCases = []\n",
    "for case in cases:\n",
    "    normCase = \"\"\n",
    "    for token in case:\n",
    "        if token.pos_ == \"ADJ\":\n",
    "            normCase += token.text + \" \"\n",
    "        elif token.pos_ == \"ADV\":\n",
    "            normCase += token.text + \" \"\n",
    "        elif token.pos_ == \"NOUN\":\n",
    "            normCase += token.text + \" \"\n",
    "        elif token.pos_ == \"NUM\":\n",
    "            normCase += token.text + \" \"\n",
    "        elif token.pos_ == \"PROPN\":\n",
    "            normCase += token.text + \" \"\n",
    "        elif token.pos_ == \"VERB\":\n",
    "            normCase += token.text + \" \"\n",
    "\n",
    "    normCases.append(nlp(normCase))\n",
    "    \n",
    "\n",
    "# I decided to exclude everything except adjectives, adverbs, noun, numerals, proper nouns \n",
    "# and verbs. Of cource the meaning of most legal \"memes\" will strongly depend on many words \n",
    "# that have been excluded with this desicion. But I am convinced that with only the above named \n",
    "# words the important meaning of each text isn't lost. And also my computational limit is already \n",
    "# at a limit so I rather went for quantity than quality.\n",
    "\n",
    "# Of course adjectives, verbs and nouns are the most characterizing elements, but the\n",
    "# adverbs and proper nouns sometimes include important information from which the meaning\n",
    "# of a sentence greatly depends. Thats why I didn't exlude these.\n",
    "# The numerals I included, because the magnitude of an expression can in many cases only be\n",
    "# derived by numbers."
   ]
  },
  {
   "cell_type": "code",
   "execution_count": 12,
   "metadata": {},
   "outputs": [],
   "source": [
    "#*************************************************#\n",
    "#   create set from trigrams that end in a noun   #\n",
    "#*************************************************#\n",
    "trigramSet = []\n",
    "\n",
    "for case in normCases:\n",
    "    trigrams = []\n",
    "    for i in range(len(case)):\n",
    "        if (case[i].pos_ == \"NOUN\") and (i > 2):\n",
    "            trigrams.append([case[i-2], case[i-1], case[i]])\n",
    "            \n",
    "    trigramSet.append(trigrams)\n",
    "\n",
    "# print(trigramSet)"
   ]
  },
  {
   "cell_type": "markdown",
   "metadata": {},
   "source": [
    "### 4."
   ]
  },
  {
   "cell_type": "code",
   "execution_count": 13,
   "metadata": {},
   "outputs": [],
   "source": [
    "####################################################################################################\n",
    "#                                                                                                  #\n",
    "# Make a dataframe with at least 1000 features (frequencies over trigrams ending in a noun).       #\n",
    "# Standardize the features to variance one while maintaining sparsity.                             #\n",
    "#                                                                                                  #\n",
    "####################################################################################################"
   ]
  },
  {
   "cell_type": "code",
   "execution_count": 14,
   "metadata": {},
   "outputs": [
    {
     "name": "stdout",
     "output_type": "stream",
     "text": [
      "1.0\n"
     ]
    }
   ],
   "source": [
    "#*******************************************************#\n",
    "#   create dataframe of frequencies over the trigrams   #\n",
    "#*******************************************************#\n",
    "freqTrigramSet = []\n",
    "\n",
    "# I am not sure what frequency the exercise describtion mentions, but the way I understand\n",
    "# \"frequencies over trigrams ending in a noun\" is as following (which is probably wrong):\n",
    "totTrigrams = 0\n",
    "for case in trigramSet:\n",
    "    sumTrigrams = len(case)\n",
    "    freqTrigramSet.append(sumTrigrams)\n",
    "    totTrigrams += sumTrigrams\n",
    "    \n",
    "freqTrigramSet = np.array(freqTrigramSet) / totTrigrams\n",
    "\n",
    "# standardize to unit variance\n",
    "freqTrigramSet = (freqTrigramSet - freqTrigramSet.mean()) / freqTrigramSet.std()\n",
    "\n",
    "# check if unit std deviation/ variance\n",
    "print(freqTrigramSet.std())\n",
    "\n",
    "\n",
    "# if the above frequency is not the requested frequency, I'll be happy to chage it..."
   ]
  },
  {
   "cell_type": "code",
   "execution_count": 15,
   "metadata": {},
   "outputs": [],
   "source": [
    "#************************#\n",
    "#   save frequency set   #\n",
    "#************************#\n",
    "\n",
    "caseIds = np.array([caseName[5:-4] for caseName in casesList])     # cut-off year and \".txt\"\n",
    "\n",
    "freqTrigramSet = np.column_stack((caseIds[:testNumber], freqTrigramSet))\n",
    "\n",
    "# uncomment below if frequency set needs to be saved\n",
    "# np.savetxt('freqTrigramSet.csv', freqTrigramSet, fmt='%s,%s', delimiter=',', \n",
    "#            header='caseid,frequency',comments='')"
   ]
  },
  {
   "cell_type": "markdown",
   "metadata": {},
   "source": [
    "### 5."
   ]
  },
  {
   "cell_type": "code",
   "execution_count": 16,
   "metadata": {},
   "outputs": [],
   "source": [
    "####################################################################################################\n",
    "#                                                                                                  #\n",
    "# Link the dataframe to the outcome reverse. Create a training set and test set. Train a           #\n",
    "# LogisticRegression model with default parameters to predict reversal. Compute accuracy and       #\n",
    "# F1 for the prediction in the training set and in the test set.                                   #\n",
    "#                                                                                                  #\n",
    "####################################################################################################"
   ]
  },
  {
   "cell_type": "code",
   "execution_count": 17,
   "metadata": {},
   "outputs": [],
   "source": [
    "#***********************************************#\n",
    "#   link the dataframe to the outcome reverse   #\n",
    "#***********************************************#\n",
    "reverses = pd.read_csv(\"case_reversed.csv\")\n",
    "reverses = reverses.set_index('caseid').T.to_dict('list')\n",
    "\n",
    "correctOrder = []\n",
    "\n",
    "for case in freqTrigramSet:\n",
    "    correctOrder.append(reverses[case[0]])\n",
    "\n",
    "dataSet = np.column_stack((freqTrigramSet, np.array(correctOrder)))\n",
    "\n",
    "# uncomment below if data set needs to be saved\n",
    "# np.savetxt('dataSet.csv', dataSet, fmt='%s,%s,%s', delimiter=',', \n",
    "#            header='caseid,frequency,case_reversed',comments='')"
   ]
  },
  {
   "cell_type": "code",
   "execution_count": 18,
   "metadata": {},
   "outputs": [],
   "source": [
    "#**********************************#\n",
    "#   create training and test set   #\n",
    "#**********************************#\n",
    "trainX = dataSet[: int(len(dataSet) * 0.9), 1]\n",
    "trainY = dataSet[: int(len(dataSet) * 0.9), 2]\n",
    "\n",
    "testX = dataSet[int(len(dataSet) * 0.9) :, 1]\n",
    "testY = dataSet[int(len(dataSet) * 0.9) :, 2]"
   ]
  },
  {
   "cell_type": "code",
   "execution_count": 19,
   "metadata": {},
   "outputs": [],
   "source": [
    "#***********************************************************************************************#\n",
    "#   define f1 metric                                                                            #\n",
    "#   (source: https://stackoverflow.com/questions/43547402/how-to-calculate-f1-macro-in-keras)   #\n",
    "#***********************************************************************************************#\n",
    "def f1(y_true, y_pred):\n",
    "    def recall(y_true, y_pred):\n",
    "        \"\"\"Recall metric.\n",
    "\n",
    "        Only computes a batch-wise average of recall.\n",
    "\n",
    "        Computes the recall, a metric for multi-label classification of\n",
    "        how many relevant items are selected.\n",
    "        \"\"\"\n",
    "        true_positives = K.sum(K.round(K.clip(y_true * y_pred, 0, 1)))\n",
    "        possible_positives = K.sum(K.round(K.clip(y_true, 0, 1)))\n",
    "        recall = true_positives / (possible_positives + K.epsilon())\n",
    "        return recall\n",
    "\n",
    "    def precision(y_true, y_pred):\n",
    "        \"\"\"Precision metric.\n",
    "\n",
    "        Only computes a batch-wise average of precision.\n",
    "\n",
    "        Computes the precision, a metric for multi-label classification of\n",
    "        how many selected items are relevant.\n",
    "        \"\"\"\n",
    "        true_positives = K.sum(K.round(K.clip(y_true * y_pred, 0, 1)))\n",
    "        predicted_positives = K.sum(K.round(K.clip(y_pred, 0, 1)))\n",
    "        precision = true_positives / (predicted_positives + K.epsilon())\n",
    "        return precision\n",
    "    \n",
    "    precision = precision(y_true, y_pred)\n",
    "    recall = recall(y_true, y_pred)\n",
    "    return 2*((precision*recall)/(precision+recall+K.epsilon()))"
   ]
  },
  {
   "cell_type": "code",
   "execution_count": 20,
   "metadata": {},
   "outputs": [
    {
     "name": "stdout",
     "output_type": "stream",
     "text": [
      "WARNING:tensorflow:From /Library/Frameworks/Python.framework/Versions/3.6/lib/python3.6/site-packages/tensorflow/python/framework/op_def_library.py:263: colocate_with (from tensorflow.python.framework.ops) is deprecated and will be removed in a future version.\n",
      "Instructions for updating:\n",
      "Colocations handled automatically by placer.\n",
      "WARNING:tensorflow:From /Library/Frameworks/Python.framework/Versions/3.6/lib/python3.6/site-packages/tensorflow/python/ops/math_ops.py:3066: to_int32 (from tensorflow.python.ops.math_ops) is deprecated and will be removed in a future version.\n",
      "Instructions for updating:\n",
      "Use tf.cast instead.\n",
      "Train on 4148 samples, validate on 1037 samples\n",
      "Epoch 1/100\n",
      "4148/4148 [==============================] - 0s 100us/step - loss: 0.2582 - acc: 0.5456 - f1: 0.6478 - val_loss: 0.2532 - val_acc: 0.5526 - val_f1: 0.6689\n",
      "Epoch 2/100\n",
      "4148/4148 [==============================] - 0s 75us/step - loss: 0.2457 - acc: 0.5846 - f1: 0.7106 - val_loss: 0.2432 - val_acc: 0.5979 - val_f1: 0.7290\n",
      "Epoch 3/100\n",
      "4148/4148 [==============================] - 0s 71us/step - loss: 0.2379 - acc: 0.6172 - f1: 0.7503 - val_loss: 0.2380 - val_acc: 0.6152 - val_f1: 0.7519\n",
      "Epoch 4/100\n",
      "4148/4148 [==============================] - 0s 56us/step - loss: 0.2342 - acc: 0.6328 - f1: 0.7688 - val_loss: 0.2358 - val_acc: 0.6230 - val_f1: 0.7600\n",
      "Epoch 5/100\n",
      "4148/4148 [==============================] - 0s 81us/step - loss: 0.2328 - acc: 0.6336 - f1: 0.7688 - val_loss: 0.2349 - val_acc: 0.6230 - val_f1: 0.7600\n",
      "Epoch 6/100\n",
      "4148/4148 [==============================] - 0s 59us/step - loss: 0.2322 - acc: 0.6338 - f1: 0.7684 - val_loss: 0.2347 - val_acc: 0.6230 - val_f1: 0.7600\n",
      "Epoch 7/100\n",
      "4148/4148 [==============================] - 0s 60us/step - loss: 0.2320 - acc: 0.6338 - f1: 0.7692 - val_loss: 0.2346 - val_acc: 0.6230 - val_f1: 0.7600\n",
      "Epoch 8/100\n",
      "4148/4148 [==============================] - 0s 64us/step - loss: 0.2319 - acc: 0.6338 - f1: 0.7692 - val_loss: 0.2345 - val_acc: 0.6230 - val_f1: 0.7600\n",
      "Epoch 9/100\n",
      "4148/4148 [==============================] - 0s 91us/step - loss: 0.2319 - acc: 0.6338 - f1: 0.7697 - val_loss: 0.2345 - val_acc: 0.6230 - val_f1: 0.7600\n",
      "Epoch 10/100\n",
      "4148/4148 [==============================] - 0s 61us/step - loss: 0.2319 - acc: 0.6338 - f1: 0.7697 - val_loss: 0.2345 - val_acc: 0.6230 - val_f1: 0.7600\n",
      "Epoch 11/100\n",
      "4148/4148 [==============================] - 0s 58us/step - loss: 0.2319 - acc: 0.6338 - f1: 0.7688 - val_loss: 0.2345 - val_acc: 0.6230 - val_f1: 0.7600\n",
      "Epoch 12/100\n",
      "4148/4148 [==============================] - 0s 91us/step - loss: 0.2319 - acc: 0.6338 - f1: 0.7693 - val_loss: 0.2345 - val_acc: 0.6230 - val_f1: 0.7600\n",
      "Epoch 13/100\n",
      "4148/4148 [==============================] - 0s 92us/step - loss: 0.2319 - acc: 0.6338 - f1: 0.7685 - val_loss: 0.2345 - val_acc: 0.6230 - val_f1: 0.7600\n",
      "Epoch 14/100\n",
      "4148/4148 [==============================] - 0s 94us/step - loss: 0.2319 - acc: 0.6338 - f1: 0.7691 - val_loss: 0.2345 - val_acc: 0.6230 - val_f1: 0.7600\n",
      "Epoch 15/100\n",
      "4148/4148 [==============================] - 0s 95us/step - loss: 0.2319 - acc: 0.6338 - f1: 0.7688 - val_loss: 0.2345 - val_acc: 0.6230 - val_f1: 0.7600\n",
      "Epoch 16/100\n",
      "4148/4148 [==============================] - 0s 68us/step - loss: 0.2319 - acc: 0.6338 - f1: 0.7681 - val_loss: 0.2345 - val_acc: 0.6230 - val_f1: 0.7600\n",
      "Epoch 17/100\n",
      "4148/4148 [==============================] - 0s 76us/step - loss: 0.2319 - acc: 0.6338 - f1: 0.7685 - val_loss: 0.2345 - val_acc: 0.6230 - val_f1: 0.7600\n",
      "Epoch 18/100\n",
      "4148/4148 [==============================] - 0s 57us/step - loss: 0.2319 - acc: 0.6338 - f1: 0.7687 - val_loss: 0.2345 - val_acc: 0.6230 - val_f1: 0.7600\n",
      "Epoch 19/100\n",
      "4148/4148 [==============================] - 0s 66us/step - loss: 0.2319 - acc: 0.6338 - f1: 0.7692 - val_loss: 0.2345 - val_acc: 0.6230 - val_f1: 0.7600\n",
      "Epoch 20/100\n",
      "4148/4148 [==============================] - 0s 64us/step - loss: 0.2319 - acc: 0.6338 - f1: 0.7700 - val_loss: 0.2345 - val_acc: 0.6230 - val_f1: 0.7600\n",
      "Epoch 21/100\n",
      "4148/4148 [==============================] - 0s 61us/step - loss: 0.2319 - acc: 0.6338 - f1: 0.7692 - val_loss: 0.2345 - val_acc: 0.6230 - val_f1: 0.7600\n",
      "Epoch 22/100\n",
      "4148/4148 [==============================] - 0s 60us/step - loss: 0.2319 - acc: 0.6338 - f1: 0.7696 - val_loss: 0.2344 - val_acc: 0.6230 - val_f1: 0.7600\n",
      "Epoch 23/100\n",
      "4148/4148 [==============================] - 0s 99us/step - loss: 0.2319 - acc: 0.6338 - f1: 0.7687 - val_loss: 0.2345 - val_acc: 0.6230 - val_f1: 0.7600\n",
      "Epoch 24/100\n",
      "4148/4148 [==============================] - 0s 60us/step - loss: 0.2319 - acc: 0.6338 - f1: 0.7691 - val_loss: 0.2345 - val_acc: 0.6230 - val_f1: 0.7600\n",
      "Epoch 25/100\n",
      "4148/4148 [==============================] - 0s 86us/step - loss: 0.2319 - acc: 0.6338 - f1: 0.7698 - val_loss: 0.2345 - val_acc: 0.6230 - val_f1: 0.7600\n",
      "Epoch 26/100\n",
      "4148/4148 [==============================] - 0s 56us/step - loss: 0.2319 - acc: 0.6338 - f1: 0.7686 - val_loss: 0.2345 - val_acc: 0.6230 - val_f1: 0.7600\n",
      "Epoch 27/100\n",
      "4148/4148 [==============================] - 0s 58us/step - loss: 0.2319 - acc: 0.6338 - f1: 0.7683 - val_loss: 0.2345 - val_acc: 0.6230 - val_f1: 0.7600\n",
      "Epoch 28/100\n",
      "4148/4148 [==============================] - 0s 65us/step - loss: 0.2319 - acc: 0.6338 - f1: 0.7689 - val_loss: 0.2345 - val_acc: 0.6230 - val_f1: 0.7600\n",
      "Epoch 29/100\n",
      "4148/4148 [==============================] - 0s 58us/step - loss: 0.2319 - acc: 0.6338 - f1: 0.7691 - val_loss: 0.2345 - val_acc: 0.6230 - val_f1: 0.7600\n",
      "Epoch 30/100\n",
      "4148/4148 [==============================] - 0s 94us/step - loss: 0.2319 - acc: 0.6338 - f1: 0.7691 - val_loss: 0.2345 - val_acc: 0.6230 - val_f1: 0.7600\n",
      "Epoch 31/100\n",
      "4148/4148 [==============================] - 0s 56us/step - loss: 0.2319 - acc: 0.6338 - f1: 0.7684 - val_loss: 0.2345 - val_acc: 0.6230 - val_f1: 0.7600\n",
      "Epoch 32/100\n",
      "4148/4148 [==============================] - 0s 57us/step - loss: 0.2319 - acc: 0.6338 - f1: 0.7693 - val_loss: 0.2345 - val_acc: 0.6230 - val_f1: 0.7600\n",
      "Epoch 33/100\n",
      "4148/4148 [==============================] - 0s 55us/step - loss: 0.2319 - acc: 0.6338 - f1: 0.7680 - val_loss: 0.2344 - val_acc: 0.6230 - val_f1: 0.7600\n",
      "Epoch 34/100\n",
      "4148/4148 [==============================] - 0s 51us/step - loss: 0.2319 - acc: 0.6338 - f1: 0.7688 - val_loss: 0.2345 - val_acc: 0.6230 - val_f1: 0.7600\n",
      "Epoch 35/100\n",
      "4148/4148 [==============================] - 0s 75us/step - loss: 0.2319 - acc: 0.6338 - f1: 0.7683 - val_loss: 0.2345 - val_acc: 0.6230 - val_f1: 0.7600\n",
      "Epoch 36/100\n",
      "4148/4148 [==============================] - 0s 65us/step - loss: 0.2319 - acc: 0.6338 - f1: 0.7689 - val_loss: 0.2344 - val_acc: 0.6230 - val_f1: 0.7600\n",
      "Epoch 37/100\n",
      "4148/4148 [==============================] - 0s 94us/step - loss: 0.2319 - acc: 0.6338 - f1: 0.7701 - val_loss: 0.2344 - val_acc: 0.6230 - val_f1: 0.7600\n",
      "Epoch 38/100\n",
      "4148/4148 [==============================] - 0s 90us/step - loss: 0.2319 - acc: 0.6338 - f1: 0.7693 - val_loss: 0.2345 - val_acc: 0.6230 - val_f1: 0.7600\n",
      "Epoch 39/100\n",
      "4148/4148 [==============================] - 0s 98us/step - loss: 0.2319 - acc: 0.6338 - f1: 0.7685 - val_loss: 0.2345 - val_acc: 0.6230 - val_f1: 0.7600\n",
      "Epoch 40/100\n",
      "4148/4148 [==============================] - 0s 93us/step - loss: 0.2319 - acc: 0.6338 - f1: 0.7694 - val_loss: 0.2344 - val_acc: 0.6230 - val_f1: 0.7600\n",
      "Epoch 41/100\n",
      "4148/4148 [==============================] - 0s 96us/step - loss: 0.2319 - acc: 0.6338 - f1: 0.7696 - val_loss: 0.2345 - val_acc: 0.6230 - val_f1: 0.7600\n",
      "Epoch 42/100\n",
      "4148/4148 [==============================] - 0s 74us/step - loss: 0.2319 - acc: 0.6338 - f1: 0.7679 - val_loss: 0.2345 - val_acc: 0.6230 - val_f1: 0.7600\n",
      "Epoch 43/100\n",
      "4148/4148 [==============================] - 0s 60us/step - loss: 0.2319 - acc: 0.6338 - f1: 0.7694 - val_loss: 0.2344 - val_acc: 0.6230 - val_f1: 0.7600\n",
      "Epoch 44/100\n",
      "4148/4148 [==============================] - 0s 69us/step - loss: 0.2319 - acc: 0.6338 - f1: 0.7695 - val_loss: 0.2345 - val_acc: 0.6230 - val_f1: 0.7600\n",
      "Epoch 45/100\n",
      "4148/4148 [==============================] - 0s 76us/step - loss: 0.2319 - acc: 0.6338 - f1: 0.7681 - val_loss: 0.2345 - val_acc: 0.6230 - val_f1: 0.7600\n",
      "Epoch 46/100\n"
     ]
    },
    {
     "name": "stdout",
     "output_type": "stream",
     "text": [
      "4148/4148 [==============================] - 0s 62us/step - loss: 0.2319 - acc: 0.6338 - f1: 0.7685 - val_loss: 0.2345 - val_acc: 0.6230 - val_f1: 0.7600\n",
      "Epoch 47/100\n",
      "4148/4148 [==============================] - 0s 58us/step - loss: 0.2319 - acc: 0.6338 - f1: 0.7697 - val_loss: 0.2345 - val_acc: 0.6230 - val_f1: 0.7600\n",
      "Epoch 48/100\n",
      "4148/4148 [==============================] - 0s 61us/step - loss: 0.2319 - acc: 0.6338 - f1: 0.7688 - val_loss: 0.2345 - val_acc: 0.6230 - val_f1: 0.7600\n",
      "Epoch 49/100\n",
      "4148/4148 [==============================] - 0s 54us/step - loss: 0.2319 - acc: 0.6338 - f1: 0.7686 - val_loss: 0.2345 - val_acc: 0.6230 - val_f1: 0.7600\n",
      "Epoch 50/100\n",
      "4148/4148 [==============================] - 0s 71us/step - loss: 0.2319 - acc: 0.6338 - f1: 0.7694 - val_loss: 0.2344 - val_acc: 0.6230 - val_f1: 0.7600\n",
      "Epoch 51/100\n",
      "4148/4148 [==============================] - 0s 70us/step - loss: 0.2319 - acc: 0.6338 - f1: 0.7697 - val_loss: 0.2344 - val_acc: 0.6230 - val_f1: 0.7600\n",
      "Epoch 52/100\n",
      "4148/4148 [==============================] - 0s 60us/step - loss: 0.2319 - acc: 0.6338 - f1: 0.7685 - val_loss: 0.2344 - val_acc: 0.6230 - val_f1: 0.7600\n",
      "Epoch 53/100\n",
      "4148/4148 [==============================] - 0s 58us/step - loss: 0.2319 - acc: 0.6338 - f1: 0.7683 - val_loss: 0.2345 - val_acc: 0.6230 - val_f1: 0.7600\n",
      "Epoch 54/100\n",
      "4148/4148 [==============================] - 0s 60us/step - loss: 0.2319 - acc: 0.6338 - f1: 0.7698 - val_loss: 0.2345 - val_acc: 0.6230 - val_f1: 0.7600\n",
      "Epoch 55/100\n",
      "4148/4148 [==============================] - 0s 65us/step - loss: 0.2319 - acc: 0.6338 - f1: 0.7693 - val_loss: 0.2345 - val_acc: 0.6230 - val_f1: 0.7600\n",
      "Epoch 56/100\n",
      "4148/4148 [==============================] - 0s 82us/step - loss: 0.2319 - acc: 0.6338 - f1: 0.7690 - val_loss: 0.2345 - val_acc: 0.6230 - val_f1: 0.7600\n",
      "Epoch 57/100\n",
      "4148/4148 [==============================] - 0s 60us/step - loss: 0.2319 - acc: 0.6338 - f1: 0.7684 - val_loss: 0.2345 - val_acc: 0.6230 - val_f1: 0.7600\n",
      "Epoch 58/100\n",
      "4148/4148 [==============================] - 0s 62us/step - loss: 0.2319 - acc: 0.6338 - f1: 0.7685 - val_loss: 0.2345 - val_acc: 0.6230 - val_f1: 0.7600\n",
      "Epoch 59/100\n",
      "4148/4148 [==============================] - 0s 62us/step - loss: 0.2319 - acc: 0.6338 - f1: 0.7696 - val_loss: 0.2345 - val_acc: 0.6230 - val_f1: 0.7600\n",
      "Epoch 60/100\n",
      "4148/4148 [==============================] - 0s 73us/step - loss: 0.2319 - acc: 0.6338 - f1: 0.7692 - val_loss: 0.2345 - val_acc: 0.6230 - val_f1: 0.7600\n",
      "Epoch 61/100\n",
      "4148/4148 [==============================] - 0s 75us/step - loss: 0.2319 - acc: 0.6338 - f1: 0.7699 - val_loss: 0.2344 - val_acc: 0.6230 - val_f1: 0.7600\n",
      "Epoch 62/100\n",
      "4148/4148 [==============================] - 0s 113us/step - loss: 0.2319 - acc: 0.6338 - f1: 0.7690 - val_loss: 0.2345 - val_acc: 0.6230 - val_f1: 0.7600\n",
      "Epoch 63/100\n",
      "4148/4148 [==============================] - 0s 68us/step - loss: 0.2319 - acc: 0.6338 - f1: 0.7693 - val_loss: 0.2344 - val_acc: 0.6230 - val_f1: 0.7600\n",
      "Epoch 64/100\n",
      "4148/4148 [==============================] - 0s 65us/step - loss: 0.2319 - acc: 0.6338 - f1: 0.7683 - val_loss: 0.2344 - val_acc: 0.6230 - val_f1: 0.7600\n",
      "Epoch 65/100\n",
      "4148/4148 [==============================] - 0s 68us/step - loss: 0.2319 - acc: 0.6338 - f1: 0.7687 - val_loss: 0.2345 - val_acc: 0.6230 - val_f1: 0.7600\n",
      "Epoch 66/100\n",
      "4148/4148 [==============================] - 0s 58us/step - loss: 0.2319 - acc: 0.6338 - f1: 0.7668 - val_loss: 0.2344 - val_acc: 0.6230 - val_f1: 0.7600\n",
      "Epoch 67/100\n",
      "4148/4148 [==============================] - 0s 91us/step - loss: 0.2319 - acc: 0.6338 - f1: 0.7694 - val_loss: 0.2344 - val_acc: 0.6230 - val_f1: 0.7600\n",
      "Epoch 68/100\n",
      "4148/4148 [==============================] - 0s 58us/step - loss: 0.2319 - acc: 0.6338 - f1: 0.7690 - val_loss: 0.2344 - val_acc: 0.6230 - val_f1: 0.7600\n",
      "Epoch 69/100\n",
      "4148/4148 [==============================] - 0s 57us/step - loss: 0.2319 - acc: 0.6338 - f1: 0.7680 - val_loss: 0.2345 - val_acc: 0.6230 - val_f1: 0.7600\n",
      "Epoch 70/100\n",
      "4148/4148 [==============================] - 0s 65us/step - loss: 0.2319 - acc: 0.6338 - f1: 0.7680 - val_loss: 0.2345 - val_acc: 0.6230 - val_f1: 0.7600\n",
      "Epoch 71/100\n",
      "4148/4148 [==============================] - 0s 78us/step - loss: 0.2319 - acc: 0.6338 - f1: 0.7688 - val_loss: 0.2345 - val_acc: 0.6230 - val_f1: 0.7600\n",
      "Epoch 72/100\n",
      "4148/4148 [==============================] - 0s 70us/step - loss: 0.2319 - acc: 0.6338 - f1: 0.7693 - val_loss: 0.2345 - val_acc: 0.6230 - val_f1: 0.7600\n",
      "Epoch 73/100\n",
      "4148/4148 [==============================] - 0s 104us/step - loss: 0.2319 - acc: 0.6338 - f1: 0.7694 - val_loss: 0.2345 - val_acc: 0.6230 - val_f1: 0.7600\n",
      "Epoch 74/100\n",
      "4148/4148 [==============================] - 0s 84us/step - loss: 0.2319 - acc: 0.6338 - f1: 0.7679 - val_loss: 0.2345 - val_acc: 0.6230 - val_f1: 0.7600\n",
      "Epoch 75/100\n",
      "4148/4148 [==============================] - 0s 54us/step - loss: 0.2319 - acc: 0.6338 - f1: 0.7695 - val_loss: 0.2345 - val_acc: 0.6230 - val_f1: 0.7600\n",
      "Epoch 76/100\n",
      "4148/4148 [==============================] - 0s 116us/step - loss: 0.2319 - acc: 0.6338 - f1: 0.7683 - val_loss: 0.2345 - val_acc: 0.6230 - val_f1: 0.7600\n",
      "Epoch 77/100\n",
      "4148/4148 [==============================] - 0s 78us/step - loss: 0.2319 - acc: 0.6338 - f1: 0.7682 - val_loss: 0.2345 - val_acc: 0.6230 - val_f1: 0.7600\n",
      "Epoch 78/100\n",
      "4148/4148 [==============================] - 0s 62us/step - loss: 0.2319 - acc: 0.6338 - f1: 0.7685 - val_loss: 0.2345 - val_acc: 0.6230 - val_f1: 0.7600\n",
      "Epoch 79/100\n",
      "4148/4148 [==============================] - 0s 62us/step - loss: 0.2319 - acc: 0.6338 - f1: 0.7693 - val_loss: 0.2345 - val_acc: 0.6230 - val_f1: 0.7600\n",
      "Epoch 80/100\n",
      "4148/4148 [==============================] - 0s 59us/step - loss: 0.2319 - acc: 0.6338 - f1: 0.7694 - val_loss: 0.2345 - val_acc: 0.6230 - val_f1: 0.7600\n",
      "Epoch 81/100\n",
      "4148/4148 [==============================] - 0s 85us/step - loss: 0.2319 - acc: 0.6338 - f1: 0.7691 - val_loss: 0.2345 - val_acc: 0.6230 - val_f1: 0.7600\n",
      "Epoch 82/100\n",
      "4148/4148 [==============================] - 0s 59us/step - loss: 0.2319 - acc: 0.6338 - f1: 0.7687 - val_loss: 0.2345 - val_acc: 0.6230 - val_f1: 0.7600\n",
      "Epoch 83/100\n",
      "4148/4148 [==============================] - 0s 73us/step - loss: 0.2319 - acc: 0.6338 - f1: 0.7686 - val_loss: 0.2345 - val_acc: 0.6230 - val_f1: 0.7600\n",
      "Epoch 84/100\n",
      "4148/4148 [==============================] - 0s 68us/step - loss: 0.2319 - acc: 0.6338 - f1: 0.7691 - val_loss: 0.2345 - val_acc: 0.6230 - val_f1: 0.7600\n",
      "Epoch 85/100\n",
      "4148/4148 [==============================] - 0s 79us/step - loss: 0.2319 - acc: 0.6338 - f1: 0.7686 - val_loss: 0.2345 - val_acc: 0.6230 - val_f1: 0.7600\n",
      "Epoch 86/100\n",
      "4148/4148 [==============================] - 0s 102us/step - loss: 0.2319 - acc: 0.6338 - f1: 0.7689 - val_loss: 0.2344 - val_acc: 0.6230 - val_f1: 0.7600\n",
      "Epoch 87/100\n",
      "4148/4148 [==============================] - 0s 58us/step - loss: 0.2319 - acc: 0.6338 - f1: 0.7688 - val_loss: 0.2344 - val_acc: 0.6230 - val_f1: 0.7600\n",
      "Epoch 88/100\n",
      "4148/4148 [==============================] - 0s 53us/step - loss: 0.2319 - acc: 0.6338 - f1: 0.7688 - val_loss: 0.2345 - val_acc: 0.6230 - val_f1: 0.7600\n",
      "Epoch 89/100\n",
      "4148/4148 [==============================] - 0s 110us/step - loss: 0.2319 - acc: 0.6338 - f1: 0.7688 - val_loss: 0.2344 - val_acc: 0.6230 - val_f1: 0.7600\n",
      "Epoch 90/100\n",
      "4148/4148 [==============================] - 0s 64us/step - loss: 0.2319 - acc: 0.6338 - f1: 0.7690 - val_loss: 0.2344 - val_acc: 0.6230 - val_f1: 0.7600\n",
      "Epoch 91/100\n",
      "4148/4148 [==============================] - 0s 91us/step - loss: 0.2319 - acc: 0.6338 - f1: 0.7680 - val_loss: 0.2344 - val_acc: 0.6230 - val_f1: 0.7600\n",
      "Epoch 92/100\n",
      "4148/4148 [==============================] - 0s 56us/step - loss: 0.2319 - acc: 0.6338 - f1: 0.7692 - val_loss: 0.2344 - val_acc: 0.6230 - val_f1: 0.7600\n",
      "Epoch 93/100\n",
      "4148/4148 [==============================] - 0s 56us/step - loss: 0.2319 - acc: 0.6338 - f1: 0.7685 - val_loss: 0.2345 - val_acc: 0.6230 - val_f1: 0.7600\n",
      "Epoch 94/100\n",
      "4148/4148 [==============================] - 0s 61us/step - loss: 0.2319 - acc: 0.6338 - f1: 0.7687 - val_loss: 0.2344 - val_acc: 0.6230 - val_f1: 0.7600\n",
      "Epoch 95/100\n"
     ]
    },
    {
     "name": "stdout",
     "output_type": "stream",
     "text": [
      "4148/4148 [==============================] - 0s 56us/step - loss: 0.2319 - acc: 0.6338 - f1: 0.7707 - val_loss: 0.2345 - val_acc: 0.6230 - val_f1: 0.7600\n",
      "Epoch 96/100\n",
      "4148/4148 [==============================] - 0s 56us/step - loss: 0.2319 - acc: 0.6338 - f1: 0.7686 - val_loss: 0.2345 - val_acc: 0.6230 - val_f1: 0.7600\n",
      "Epoch 97/100\n",
      "4148/4148 [==============================] - 0s 53us/step - loss: 0.2319 - acc: 0.6338 - f1: 0.7679 - val_loss: 0.2344 - val_acc: 0.6230 - val_f1: 0.7600\n",
      "Epoch 98/100\n",
      "4148/4148 [==============================] - 0s 53us/step - loss: 0.2319 - acc: 0.6338 - f1: 0.7685 - val_loss: 0.2344 - val_acc: 0.6230 - val_f1: 0.7600\n",
      "Epoch 99/100\n",
      "4148/4148 [==============================] - 0s 59us/step - loss: 0.2319 - acc: 0.6338 - f1: 0.7692 - val_loss: 0.2345 - val_acc: 0.6230 - val_f1: 0.7600\n",
      "Epoch 100/100\n",
      "4148/4148 [==============================] - 0s 71us/step - loss: 0.2319 - acc: 0.6338 - f1: 0.7691 - val_loss: 0.2344 - val_acc: 0.6230 - val_f1: 0.7600\n",
      "577/577 [==============================] - 0s 35us/step\n"
     ]
    }
   ],
   "source": [
    "#*******************************#\n",
    "#   logistic regression model   #\n",
    "#*******************************#\n",
    "x = Input((1,))\n",
    "y = Dense(1)(x)\n",
    "y = Activation(\"sigmoid\")(y)\n",
    "\n",
    "model = Model(x, y)\n",
    "model.compile(loss = \"mean_squared_error\", optimizer = \"adam\", metrics = [\"accuracy\", f1])\n",
    "\n",
    "# train model\n",
    "history = model.fit(x = trainX, y = trainY, batch_size = 16, epochs = 100,\n",
    "                    validation_split=0.2)\n",
    "# test model\n",
    "accuracy = model.evaluate(testX, testY, batch_size=16)"
   ]
  },
  {
   "cell_type": "code",
   "execution_count": 21,
   "metadata": {},
   "outputs": [
    {
     "name": "stdout",
     "output_type": "stream",
     "text": [
      "training accuracy: 0.622950819959521\n",
      "test accuracy: 0.6395147313691508 \n",
      "\n",
      "training f1: 0.7599550640801455\n",
      "test f1: 0.7753202577397563\n"
     ]
    }
   ],
   "source": [
    "#*************************#\n",
    "#   get accuracy and F1   #\n",
    "#*************************#\n",
    "print(\"training accuracy:\", history.history['val_acc'][-1])\n",
    "print(\"test accuracy:\", accuracy[1], '\\n')\n",
    "\n",
    "print(\"training f1:\", history.history['val_f1'][-1])\n",
    "print(\"test f1:\", accuracy[2])"
   ]
  },
  {
   "cell_type": "markdown",
   "metadata": {},
   "source": [
    "### 6."
   ]
  },
  {
   "cell_type": "code",
   "execution_count": 22,
   "metadata": {},
   "outputs": [],
   "source": [
    "####################################################################################################\n",
    "#                                                                                                  #\n",
    "# Use GridSearchCV() to choose hyperparameters: L1 vs L2 penalty, and regularization parameter C.  #\n",
    "# Report the best model parameters and score. Report the ROC Curve and AUC.                        #\n",
    "#                                                                                                  #\n",
    "####################################################################################################"
   ]
  },
  {
   "cell_type": "code",
   "execution_count": 23,
   "metadata": {},
   "outputs": [],
   "source": [
    "#****************************#\n",
    "#   choose hyperparameters   #\n",
    "#****************************#\n",
    "\n",
    "# no idea... \n",
    "\n",
    "# (and sadly there are no examples or I couldn't find any \n",
    "# on https://github.com/ellliottt/robot_judge_2019/tree/master/notebooks)"
   ]
  },
  {
   "cell_type": "code",
   "execution_count": 24,
   "metadata": {},
   "outputs": [
    {
     "data": {
      "image/png": "[encoded data removed]",
      "text/plain": [
       "<Figure size 432x288 with 1 Axes>"
      ]
     },
     "metadata": {
      "needs_background": "light"
     },
     "output_type": "display_data"
    }
   ],
   "source": [
    "#******************************#\n",
    "#   report ROC curve and AUC   #\n",
    "#******************************#\n",
    "yPred = model.predict(testX).ravel()\n",
    "yTrue = [int(testY[i]) for i in range(len(testY))]\n",
    "\n",
    "fpr, tpr, thresholds = roc_curve(yTrue, yPred, pos_label=1)\n",
    "auc = auc(fpr, tpr)\n",
    "\n",
    "# plot curve\n",
    "plt.figure()\n",
    "plt.plot([0, 1], [0, 1], 'k--')\n",
    "plt.plot(fpr, tpr, label='AUC (area = {:.3f})'.format(auc))\n",
    "plt.xlabel('False positive rate')\n",
    "plt.ylabel('True positive rate')\n",
    "plt.title('ROC curve')\n",
    "plt.legend(loc='best')\n",
    "plt.show()"
   ]
  },
  {
   "cell_type": "markdown",
   "metadata": {},
   "source": [
    "### 7."
   ]
  },
  {
   "cell_type": "code",
   "execution_count": 25,
   "metadata": {},
   "outputs": [],
   "source": [
    "####################################################################################################\n",
    "#                                                                                                  #\n",
    "# Make a new dataframe where each sentence (of each case) is treated as a separate document.       #\n",
    "# Compute vader compound sentiment scores for each sentence and report the top 10 highest- and     #\n",
    "# lowest-sentiment sentences.                                                                      #\n",
    "#                                                                                                  #\n",
    "####################################################################################################"
   ]
  },
  {
   "cell_type": "code",
   "execution_count": 26,
   "metadata": {},
   "outputs": [],
   "source": [
    "#*************************************************#\n",
    "#   get all sentences and their sentiment score   #\n",
    "#*************************************************#\n",
    "sid = SentimentIntensityAnalyzer()\n",
    "\n",
    "sentences = []\n",
    "\n",
    "for case in cases:\n",
    "    for sentence in case.sents:\n",
    "        sentences.append((sentence, sid.polarity_scores(sentence.text)['compound']))"
   ]
  },
  {
   "cell_type": "code",
   "execution_count": 27,
   "metadata": {},
   "outputs": [],
   "source": [
    "#*************************************************#\n",
    "#   report top 10 highest and lowest sentiments   #\n",
    "#*************************************************#\n",
    "def sortOnCompound(val): \n",
    "    return val[1]\n",
    "\n",
    "sentences.sort(key=sortOnCompound, reverse=True)"
   ]
  },
  {
   "cell_type": "code",
   "execution_count": 28,
   "metadata": {},
   "outputs": [
    {
     "name": "stdout",
     "output_type": "stream",
     "text": [
      "10 highest sentiment senentces:\n",
      "-------------------------------\n",
      "1.) At the termination of the trust, any and all accrued or undistributed net income, and any proceeds from the investment of such net income, should be deemed and treated as property owned absolutely by Virginia R. Clifford, the beneficiary, as of the time of the termination of the trust, and the remainder of the trust estate should be deemed and treated as property owned by the settlor; that the trustee should have full power and authority to do the following things: \"(a) To exercise, or to appoint proxies to exercise, any and all voting powers under any certificates or shares of stock in the trust estate; (b) to retain, or to sell, exchange, mortgage, or pledge any certificates, shares of stock, securities or other items of property or any fractional interest in any of the same now or hereafter in the trust estate, whether as part of the corpus or principal thereof or as investments or proceeds and any income therefrom, upon such terms and for such consideration as I in my absolute discretion may deem fitting; (c) to invest any cash or money in the trust estate or any income therefrom by lending the same with or without security or by depositing the same in any bank, trust company or other similar institution, or by purchasing secured or unsecured notes or certificates of deposit or by purchasing any bonds, stocks, securities or other personal property of any description, without restriction because of the speculative character of the investment or the rate of return therefrom or any laws pertaining to the investment of trust funds; (d) to collect, receive and hold all dividends, interest, increment and income belonging or due to the trust estate; (e) to compromise, settle, or adjust or release any claims which I may hold as trustee; (f) to hold any securities or items of property or any fractional interest therein, which may be in the trust estate, in the names of other persons or in my own name as an individual except as in this agreement otherwise provided.\n",
      "2.) The indictment in substance charged that the defendants and divers other persons to the grand jurors unknown, conspired to defraud the United States of and concerning its governmental function to be honestly, faithfully and dutifully represented in the Courts of the United States by an Assistant United States Attorney, to prosecute certain delinquents for crimes and offenses cognizable under the authority of the United States as the same should be presented and determined according to law and justice, free from corruption, improper influence, dishonesty or fraud, and more particularly its right to a conscientious, faithful and honest representation of its interest in certain suits and causes brought and pending in the United States in the Northern District of Illinois by promising, offering, causing and procuring to be promised and offered, money and other things of value to an officer of the United States, and to persons acting for and on behalf of the United States in an official function under and by authority of a department and office of the Government of the United States, with intent to influence his decision and action on certain questions and causes which were at times pending, and which were by law brought before such officer in his official capacity, and with the intent to influence to commit and in committing, and to collude in committing certain frauds on the United States, and to induce such officer to do and to omit from doing certain acts in violation of his lawful duty.\n",
      "\n",
      "3.) As subsidiary findings, the Board further found that resulting from an election held in July, 1934, the Petroleum Labor Policy Board certified the union as the collective bargaining agency; that soon thereafter a committee representing the union presented a proposed agreement to J. C. Thomas, superintendent of production for the Wyoming District; that in response to such proposed agreement, petitioner, on September 18, 1934, issued a statement of working conditions for the field which contained the statement among others that no understanding between petitioner and any association of employees should be considered as binding upon employees not members of such association; that at the time of the issuance of such statement, R. S. Shannon, general superintendent of production for the Rocky Mountain Division, announced that petitioner was ready to meet with any committee but would not recognize the union as the exclusive bargaining agency for its employees; that petitioner addressed letters to its employees in which it was stated that those who wished to be represented by the union might do so, but that others who might choose any other representative were entitled so to deal with the management, and that the management was prepared to deal with any such organization as the employees might choose to undertake, without management interference; that by letter written in March, 1935, the union took exception to the refusal of petitioner to recognize it as the representative of the employees and to enter into a contract with the union; that as the result of such communication a meeting was held between the committee and representatives of petitioner at which Shannon reiterated the position of petitioner as set forth in the statement of working conditions issued in September; that shortly after the passage of the National Labor Relations Board Act in July, 1935, a majority of the employees signed a petition designating the union as the collective bargaining agency; that on August 12, 1935, the date of the first attempt at collective bargaining after passage of the act, and thereafter, the union was the duly designated representative of a majority of the employees for such purpose; that on August 12, a letter was delivered to Bartels, production foreman at the field, informing petitioner that the union had been selected as the bargaining agency and requesting a conference for collective bargaining; that no answer having been received, a letter dated September 5 was delivered to Shannon requesting a conference; that pursuant to the second letter a meeting was held about September 26; that at such meeting the representatives of the union stated to Shannon that they represented the union, that the union had been selected as the bargaining agency, that they had in their possession a petition signed by a majority of the employees, and asked if he desired to see it; that Shannon replied that he considered the petition immaterial, and that he raised no question as to whether the union had been designated by a majority of the employees; that in response to a request that the union be recognized as the exclusive bargaining agency Shannon stated that petitioner maintained the same position as that set forth in the statement of policy of September 18, 1934, that it would not recognize any group as the exclusive bargaining agency but was willing to meet with any committee of individual employees, and that petitioner would not enter into any agreement with the union, not even to embody the provisions which petitioner had set forth in its own statement of September 18; that after a further exchange of letters had proved fruitless, a meeting was held on February 6, 1936, at which a conciliator for the Department of Labor was present; that at such conference a proposed contract presented by the union was discussed and the parties came to an agreement in respect to working conditions, which were embodied in notes taken by the conciliator; that Thomas stated he could not bind petitioner to such conditions but would submit them together with his recommendations to Shannon for approval; that the union did not receive any further communication from petitioner respecting such proposed agreement; that apparently as the result of the letter written by a representative of the Board, Shannon in May, 1936, approached a representative of the union for a meeting to discuss the tentative agreement which had been negotiated at the conference held February 6; that the representative of the union asked Shannon whether he was in a position to bind petitioner, to which he replied that the discussion was to be purely informal; that the representative of the union then inquired whether Shannon would enter into joint recommendations to be referred to the central office of petitioner for adoption, to which Shannon replied in the negative; and that the representative of the union then stated that he saw no purpose in continuing the discussions unless there was some possibility of reaching an agreement, and that unless the union could meet with the management with a view of entering into a definite agreement, it would not ask for further meetings but would submit the matter to the Board.\n",
      "\n",
      "4.) Under the terms of the residuary trust of the decedent's will, the trustee was to pay the net income to Mrs. Field for her natural life, with the right to pay to or for her benefit \"such sum or sums from the principal of the trust fund and at such time or times as my said Trustee shall in its sole discretion deem wise and proper for the comfort, support, maintenance, and/or happiness of my said wife, and it is my wish and will that in the exercise of its discretion with reference to such payments from the principal of the trust fund to my said wife, May L. Field, my said Trustee shall exercise its discretion with liberality to my said wife, and consider her welfare, comfort and happiness prior to claims of residuary beneficiaries under this trust.\"\n",
      "Upon her death, all of the corpus of the trust except $100,000 was to go to the charities named in the will.\n",
      "\n",
      "5.) It also charged conversion by the Trust Company of property of the Belt Company; also that the Trust Company occupied a fiduciary relation to the Belt Company, and by reason thereof had no right to charge any sums as profits; that the Trust Company in pursuance of a fraudulent plan sold worthless securities to the Belt Company; that the Trust Company fraudulently made overcharges on its books against a subsidiary company of the Belt Company, which charges afterward became charges against the Belt Company; that the Trust Company made sales of stocks and bonds for the Belt Company and reported the same as made at less than the actual figures, thereby securing for itself a profit; that the Trust Company caused the Belt Company to declare and pay dividends when it was insolvent, and that the Trust Company as a stockholder in the Belt Company received such dividends; that the Trust Company caused the Union Terminal Company, whose stock was owned by the Belt Company, to issue bonds and deliver the same to the Belt Company contrary to the provisions of the mortgage in which the Trust Company was trustee, and further caused the Belt Company to deliver said bonds to the Trust Company, which company thereupon sold them and kept the proceeds, crediting the amount to the account of the Belt Company, all in violation of the duties of said Trust Company as trustee under said mortgage; that the Trust Company sold bonds belonging to the Belt Company, and fraudulently refused to account for the proceeds; that the Trust Company fraudulently appropriated several hundred shares of stock belonging to the Belt Company.\n",
      "\n",
      "6.) 452 et seq., and the regulations issued thereunder, required each of the defendants to register and to furnish information, among other things, as to the existence, kind and extent of his membership in the Nazi Party to the end that the United States, in the exercise of its governmental functions, might have accurate and complete information during the national emergency; that the defendants conspired illegally with Draeger and Vogel and with each other and with others to the grand jurors unknown, to defraud the Government of the United States by denying, falsifying, concealing, misrepresenting, etc., membership in such Nazi Party so as to defraud, hamper, impede, impair, frustrate and obstruct the United States in obtaining accurate information as to their membership and activities in, their affiliations with, and the activities of the Nazi Party, its clubs, organizations, functions and activities in the United States; that Friedhelm Draeger, Hans Vogel, the German Ambassador, members of his staff, and others to the grand jurors unknown, would advise, counsel, instruct, command and direct the defendants and others similarly situated to deny, deceive and misguide the United States in reference to their membership or affiliation in said Nazi Party in filling out the form required of each of them under the regulations pursuant to the Alien Registration Act of 1940; that it was part of the conspiracy that these defendants and other members and affiliates of the said Nazi Party within the United States, would continue after the Fall and early Winter of 1940, and from day to day thereafter to the date of the bringing in of the indictment, to deny, falsify, deceive and misrepresent to the United States their agencies, departments and bureaus, the material facts relating to the existing kind and extent of their membership and activities in, affiliation with, and the existence and activities and functions of the said Nazi Party within the United States, to the end that the denials, concealments, falsifications, misrepresentations, suppressions and equivocations made in connection with the above referred to Alien Registration Act of 1940 would continue thereafter to the detriment and failure of the United States and their agencies, departments and bureaus, to ascertain fully, fairly and accurately during a National emergency, information relating to the membership, policy and activities of these defendants and others in the Nazi Party in the United States, and for the furtherance of the political activities, public relations, public policy of the Government of the Third German Reich, all of which information in said form under said Act of Congress was vital to the internal security of the United States; that the defendants would appear before proper alien registration officers and authorities for the purpose of registration, and in such registration would falsely and fraudulently omit to disclose and truly state their membership in, and connection and affiliation with, the clubs, societies, organizations and activities of, the Nazi Party within the United States; and numerous overt acts were set forth and alleged to have been committed in pursuance of, and in order to effect the objects of, said conspiracy.\n",
      "\n",
      "7.) This answer alleged lack of jurisdiction by the court to grant injunctive relief for the reason that the judicial review of awards of the Board provided by the Railway Labor Act in Carrier has not exhausted its adminactions to enforce is exclusive; that the istrative remedies; that the Board, with the Referee sitting as a member thereof, has not made, but will make unless enjoined, a final determination of the Carrier's contentions, including its contention that any award in favor of Telegraphers would be invalid unless notice is given to the Clerks; that the complaint is premature because the Referee may decide Telegraphers' claim in favor of the Carrier, either on the question of notice or on the merits, in which case the Carrier cannot be injured; that, if the case should be decided in favor of Telegraphers, the Carrier, if correct on its contention as to notice, will have an adequate defense to any suit for enforcement of the award, which defense constitutes an adequate remedy at law; that the Clerks has its own contract with the Carrier governing the performance of work by members of that craft and it is, therefore, neither a necessary nor a proper party in the proceeding before the Board, and, finally, Telegraphers alleged that the record shows that the Clerks had actual knowledge of the pendency of the claim before the Board and that such knowledge dispenses with the necessity of giving formal notice.\n",
      "\n",
      "8.) The main grounds for recovery thereof, as stated in the petition, are: \"That the assessment and collection of said additional income tax was erroneous and illegal in that it is based upon alleged income accruing to the plaintiff from the liquidating dividend upon the dissolution of the Osage Mercantile Company, a corporation, in which he was a stockholder; that this corporation was chartered and organized in the year 1902 with a capital stock of $15,000 divided into 150 shares of the par value of $100 each; that thereafter in the year 1906 the capital stock of said corporation was increased to $30,000 divided into 300 shares of the par value of $100 each; that on March 1, 1913, the plaintiff was the owner and holder of 112 shares of the capital stock in said corporation and the same was of the fair market value of $500 a share on said date; that on July 22, 1920, said corporation was liquidated and dissolved and its assets were transferred and distributed in specie to its stockholders by a liquidating dividend; that the net actual and fair market value of the assets so distributed was $88,408.97 on that date; that the share of such assets received by the plaintiff was less in value by the sum of $5,491.84 than the fair market value on March 1, 1913, of the stock he then owned plus the cost of the stock he subsequently acquired and he, therefore, sustained an actual loss in said amount on the liquidation of said corporation; that in ascertaining the gain or loss to the plaintiff upon the liquidation of said corporation the Commissioner of Internal Revenue erroneously, wrongfully and illegally assumed and took $356.86 per share, instead of the correct sum of $500 per share, as the fair market value of the plaintiff's stock on March 1, 1913, and $97,292.71, instead of the correct sum of $88,408.97, as the net actual and fair market value of the assets of said corporation distributed at the time of liquidation in excess of all its liabilities then outstanding and assumed by its stockholders.\n",
      "9.) Mr. Gates denied (1) that the Party has since January, 1946, been affiliated with any other organization; (2) that it contributed to the Communist Information Bureau; (3) that any representative of the Party attended any meeting of that Bureau; (4) that any representative of the Bureau ever visited the Party; (5) that the Party ever received any directive or instruction or any written communication of any kind from the Bureau; (6) that the Party received any directives or instructions from The Lasting Peace , the newspaper which published information as to what was going on within the various Communist parties throughout the world; (7) that the Party ever received any instructions or directives from the Communist Party of the Soviet Union, or from any representative of that Party, or from any official of the Soviet Union, or from any Communist Party of any other country; (8) that the Communist Party of the United States ever sent any representative to the Soviet Union or to any other foreign country for instruction or training in Communism; and (9) that the Party reported its policies, etc., to the Soviet Government, the Communist Party of the Soviet Union, the Communist International, or the Communist Information Bureau.\n",
      "\n",
      "10.) It is contemplated, however, that our said Grandson will have other adequate and sufficient means of support, and that it will not be necessary to use either the income or the corpus of the trust estate hereby created to properly provide for his education, maintenance and support; and, if the income from the trust estate be not needed for these purposes, then all of the income from said trust estate not so needed shall be by the Trustee passed to capital account of said trust estate, and shall be and become a part of said trust estate, it being our hope that all of the earnings and income of said trust estate during the period of this trust may be used to augment the trust estate and be delivered to our said Grandson at the periods herein provided for.\n",
      "\n"
     ]
    }
   ],
   "source": [
    "print(\"10 highest sentiment senentces:\" + '\\n' + \"-------------------------------\")\n",
    "for i in range(10):\n",
    "    print(str(i+1) + \".) \" + str(sentences[i][0]))"
   ]
  },
  {
   "cell_type": "code",
   "execution_count": 29,
   "metadata": {},
   "outputs": [
    {
     "name": "stdout",
     "output_type": "stream",
     "text": [
      "\n",
      "10 lowest sentiment senentces:\n",
      "-------------------------------\n",
      "1.) Whoever, during and in relation to any crime of violence or drug trafficking crime (including a crime of violence or drug trafficking crime which provides for an enhanced punishment if committed by the use of a deadly or dangerous weapon or device) for which he may be prosecuted in a court of the United States, uses or carries a firearm, shall, in addition to the punishment provided for such crime of violence or drug trafficking crime, be sentenced to imprisonment for five years, and if the firearm is a short-barreled rifle, short-barreled shotgun, or semiautomatic assault weapon, to imprisonment for ten years, and if the firearm is a machinegun, or a destructive device, or is equipped with a firearm silencer or firearm muffler, to imprisonment for thirty years.\n",
      "\n",
      "2.) Except to the extent that a greater minimum sentence is otherwise provided by this subsection or by any other provision of law, any person who, during and in relation to any crime of violence or drug trafficking crime (including a crime of violence or drug trafficking crime that provides for an enhanced punishment if committed by the use of a deadly or dangerous weapon or device) for which the person may be prosecuted in a court of the United States, uses or carries a firearm, or who, in furtherance of any such crime, possesses a firearm, shall, in addition to the punishment provided for such crime of violence or drug trafficking crime —\n",
      "3.) Under Virginia law the death penalty may be imposed upon a defendant if the jury finds beyond a reasonable doubt that \"there is a probability based upon evidence of the prior history of the defendant or of the circumstances surrounding the commission of the offense of which he is accused that he would commit criminal acts of violence that would constitute a continuing serious threat to society; [the dangerousness criterion] or that his conduct in committing the offense was outrageously or wantonly vile, horrible, or inhuman, in that it involved torture, depravity of mind or aggravated battery to the victim\" (the vileness criterion)\n",
      "4.) To succeed on a duress defense, this court requires that the defendant show: 1. that [she] was under an unlawful and present, imminent, and impending threat of such a nature as to induce a well-grounded apprehension of death or serious bodily injury; 2. that [she] had not recklessly or negligently placed herself in a situation in which it was probable that she would be forced to choose the criminal conduct; 3. that [she] had no reasonable legal alternative to violating the law, a chance both to refuse to do the criminal act and also to avoid the threatened harm; and 4. that a direct causal relationship may be reasonably anticipated between the criminal action taken and the avoidance of the threatened harm.\n",
      "\n",
      "5.) Defendants appeal from an order enjoining them from interfering with plaintiff \"by violence or threats of violence\" in the transportation of interstate freight and in handling goods essential to the prosecution of the war; assaulting or attempting to injure by violence any employee of plaintiff; interrupting or obstructing by force and violence movement of interstate shipments over plaintiff's lines, and committing various acts of violence condemned as destructive of or injurious to the persons of employees and officers of plaintiff and to plaintiff's property.\n",
      "\n",
      "6.) See, e.g., Correll , 465 F.3d at 1015 (finding counsel's failure to sufficiently investigate and present mitigating evidence prejudicial, even though the crime involved three murders and one attempted murder); Ainsworth , 268 F.3d at 870-71 , 878 (finding such conduct by counsel prejudicial even though the defendant shot a woman in the hip, raped her as she bled from the gunshot wound, and confined her in her car, at times in the trunk, for 24 hours until she bled to death); Wallace , 184 F.3d at 1113 , 1118 (9th Cir. 1999) (finding such conduct by counsel could be prejudicial even though the defendant stalked and killed two people and shot without killing two others the same night); Bean , 163 F.3d at 1075-76 , 1081 , (finding such conduct by counsel prejudicial even though the defendant beat to death one middle-aged and one elderly woman in order to rob them); Hendricks v. Calderon , 70 F.3d 1032 , 1035 , 1045 (9th Cir. 1995) (finding such conduct by counsel prejudicial even though defendant was convicted of shooting two men who paid him to have sex with them and, as the jury heard in rebuttal testimony during the penalty phase, was never charged with murdering three others).\n",
      "\n",
      "7.) The article concerning the death penalty stated: \"Capital murder includes murder during the commission of rape\" and \"In Virginia, capital murder can be punished only by death in the electric chair.\"\n",
      "Whether this article contains a correct statement of the law of Virginia is of no moment, because these articles appeared months before the trial, and the jury was correctly instructed on the law of capital murder by the trial judge during Tuggle's trial.\n",
      "\n",
      "8.) They were charged, along with 13 others, in a 29-count indictment with one count of conspiracy to violate the Racketeer Influenced and Corrupt Organizations Act (\"RICO\"), in violation of 18 U.S.C. 1962(d) (1982); one count of participating in a racketeering enterprise, in violation of 18 U.S.C. 1962(c) (1982); 16 counts of mail fraud, in violation of 18 U.S.C. 1341 (1982); one count of wire fraud, in violation of 18 U.S.C. 1343 (1982); eight counts of extortion, in violation of 18 U.S.C. 1951 (1982); and one count of operating an illegal bookmaking business and one count of operating an illegal numbers business, in violation of 18 U.S.C. 1955 (1982).\n",
      "\n",
      "9.) That within two or three days thereafter the appellants selected named persons to represent them and authorized such persons to investigate the fire and make estimates as to the value of the property destroyed and settle for the loss; that these adjusters for the insurers visited the scene of the fire and made examinations as to the value of the property destroyed and the circumstances surrounding the fire, and had plaintiff furnish them with the items of the property destroyed, the plans and specifications of the building, which plaintiff furnished, and requested plaintiff to furnish assistance to a building contractor selected and appointed by the insurers and their adjusters, who was to make estimates of the value of the property destroyed and collect information as to its condition at the time of the loss; that thereafter on the 27th day of February, 1926, which was the 56th day after the fire, the said adjusters and the members of plaintiff's board of trustees held a meeting at the scene of the fire; that said building contractor was at said meeting; that said meeting was held for the purpose of discussing the settlement and adjustment of the loss sustained by plaintiff; that thereupon all of the insurers, acting through their said adjusters and agents, stated to plaintiff's board that they had made full and complete investigation as to the fire and the market value of the building and furniture and fixtures therein destroyed by said fire and had obtained all and the correct information thereon, that there was no question as to the loss upon the furniture and fixtures in the sum of $3,400.00 and that appellants were then and there ready to pay plaintiff that sum for its loss on the furniture and fixtures; that said insurers, through their adjusters and agents, at the same time stated that said building was overvalued and could be replaced for the sum of approximately $53,000, and then offered the sum of approximately $56,000 as full payment for all of the loss to both said buildings and furniture and fixtures destroyed; that plaintiff declined to accept said amount and requested the insurance companies, through their adjusters, to replace said building, this however the insurers refused to do; that plaintiff's board at said meeting contended that the value of the building was $75,000; that the value of the building and its replacement cost were the only matters discussed as to which there was any disagreement; no objection was made at any time that proofs of loss had not been furnished by the plaintiff and there was no request for the same; that the insurers at said meeting, by their conduct in offering to pay the full amount of insurance upon the furniture and fixtures and in offering to pay the sum of $53,000 for the loss of the building, led the plaintiff to believe that the only matter in dispute was the market and replacement value of the building, the appellants contending on the one hand that the market and replacement value was the sum of $53,000 and the plaintiff contending that the value was $75,000, and that by reason of the facts stated appellants waived the furnishing of proofs of loss in strict accordance with the provisions of the policies and are estopped to set up and claim such failure to furnish proofs; that appellants, through the examinations and efforts of their adjusters and the assistance of plaintiff's board rendered at the request of the adjusters obtained all the information which could have been obtained had proof of loss been furnished in strict conformity to the policies and the said adjusters led the plaintiff to believe that they had all the information desired with reference to said loss.\n",
      "\n",
      "10.) The first and second counts charged violations of section 17(a) (1) of the Securities Act of 1933 1 , as amended 2 , the third charged a violation of section 17(a) (2) ; the fourth charged a violation of section 5(a) (1) ; the fifth charged a violation of section 5(a) (2) ; the sixth, seventh, eighth, ninth and tenth each charged a use of the mails in furtherance of the scheme or artifice to defraud, in violation of section 215 of the Criminal Code 3 ; and the eleventh charged the formation of a conspiracy to violate the provisions of the Securities Act and the mail fraud statute, in violation of section 37 of the Criminal Code 4 .\n",
      "\n"
     ]
    }
   ],
   "source": [
    "print(\"\\n10 lowest sentiment senentces:\" + '\\n' + \"-------------------------------\")\n",
    "for i in range(1, 11):\n",
    "    print(str(i) + \".) \" + str(sentences[-i][0]))\n",
    "    \n",
    "# where number 1 is the lowest score..."
   ]
  },
  {
   "cell_type": "markdown",
   "metadata": {},
   "source": [
    "### 8."
   ]
  },
  {
   "cell_type": "code",
   "execution_count": 30,
   "metadata": {},
   "outputs": [],
   "source": [
    "####################################################################################################\n",
    "#                                                                                                  #\n",
    "# Use TfidfVectorizer to compute tf-idf frequencies for each sentence, and then compute            #\n",
    "# cosine similarities between all sentences. Report example pairs of very similar sentences        #\n",
    "# and very dissimilar sentences.                                                                   #\n",
    "#                                                                                                  #\n",
    "####################################################################################################"
   ]
  },
  {
   "cell_type": "code",
   "execution_count": 31,
   "metadata": {},
   "outputs": [],
   "source": [
    "#**************************************************#\n",
    "#   compute tf-idf frequencies for each sentence   #\n",
    "#**************************************************#\n",
    "sents = []\n",
    "for case in cases:\n",
    "    for sentence in case.sents:\n",
    "        sents.append(sentence.text)\n",
    "\n",
    "tfIdf = TfidfVectorizer().fit_transform(sents)"
   ]
  },
  {
   "cell_type": "code",
   "execution_count": 32,
   "metadata": {},
   "outputs": [
    {
     "name": "stdout",
     "output_type": "stream",
     "text": [
      "[[1.         0.         0.         ... 0.         0.         0.        ]\n",
      " [0.         1.         0.48109398 ... 0.02411814 0.         0.        ]\n",
      " [0.         0.48109398 1.         ... 0.         0.         0.        ]\n",
      " ...\n",
      " [0.         0.02411814 0.         ... 1.         0.         0.        ]\n",
      " [0.         0.         0.         ... 0.         1.         0.04542495]\n",
      " [0.         0.         0.         ... 0.         0.04542495 1.        ]]\n"
     ]
    }
   ],
   "source": [
    "#*************************#\n",
    "#   cosine simularities   #\n",
    "#*************************#\n",
    "\n",
    "# I only use 100, because python couldn't/wouldn't handel 1000\n",
    "simulars = cosine_similarity(tfIdf[:100])\n",
    "\n",
    "print(simulars)"
   ]
  },
  {
   "cell_type": "code",
   "execution_count": 33,
   "metadata": {},
   "outputs": [
    {
     "name": "stdout",
     "output_type": "stream",
     "text": [
      "sentence 1:  STONE , Circuit Judge.\n",
      "\n",
      "sentence 2: This is an action to recover reparation for a freight overcharge.\n",
      "\n",
      "sentence 3: The matter was first presented to the Interstate Commerce Commission, which found there had been an overcharge and declared reparation.\n",
      "\n",
      "sentence 2: This is an action to recover reparation for a freight overcharge.\n",
      "\n",
      "sentence 98: , it becomes such, if it is conditional on performance.\n",
      "\n"
     ]
    }
   ],
   "source": [
    "# what we can see from the above matrix is, that of course a sentence is very similar\n",
    "# to itself (i.e. the diagonal of the matrix is all ones).\n",
    "\n",
    "# sentence 1 is very dissimilar to all others (and the other way around of course)\n",
    "print(\"sentence 1:\", sents[0])\n",
    "\n",
    "# sentence 2 and 3 are similar (as we can see there was an overcharge and reparation in both)\n",
    "print(\"sentence 2:\", sents[1])\n",
    "print(\"sentence 3:\", sents[2])\n",
    "\n",
    "# whereas 3 and 98 don't have a lot in comon at all\n",
    "print(\"sentence 2:\", sents[1])\n",
    "print(\"sentence 98:\", sents[97])"
   ]
  },
  {
   "cell_type": "markdown",
   "metadata": {},
   "source": [
    "### 9."
   ]
  },
  {
   "cell_type": "code",
   "execution_count": 34,
   "metadata": {},
   "outputs": [],
   "source": [
    "####################################################################################################\n",
    "#                                                                                                  #\n",
    "# Use k-means clustering to assign the sentences into 20 clusters. List 5 example sentences        #\n",
    "# from each cluster.                                                                               #\n",
    "#                                                                                                  #\n",
    "####################################################################################################"
   ]
  },
  {
   "cell_type": "code",
   "execution_count": 35,
   "metadata": {},
   "outputs": [],
   "source": [
    "#***************************************#\n",
    "#   assign sentences into 20 clusters   #\n",
    "#***************************************#\n",
    "kmeans = KMeans(n_clusters=20).fit(tfIdf)"
   ]
  },
  {
   "cell_type": "code",
   "execution_count": 36,
   "metadata": {},
   "outputs": [
    {
     "name": "stdout",
     "output_type": "stream",
     "text": [
      "1434\n",
      "329845\n",
      "1\n",
      "221277\n",
      "29578\n",
      "1385\n",
      "13472\n",
      "1\n",
      "295451\n",
      "513\n",
      "1571\n",
      "36402\n",
      "244\n",
      "1880\n",
      "2364\n",
      "25667\n",
      "3791\n",
      "4794\n",
      "1654\n",
      "13\n",
      "cluster 1:\n",
      "The Commission cites Section 1.10 of its Rules and Regulations ( 47 C.F.R. 1.10 ), as follows:\n",
      "cluster 2:\n",
      "This is an action to recover reparation for a freight overcharge.\n",
      "\n",
      "cluster 3:\n",
      "Due to these circumstances, Howard, Weil has properly conceded that its claim is now moot and that this is not a situation that is an exception to the mootness doctrine.\n",
      "\n",
      "cluster 4:\n",
      "The railway having failed to pay the amount found due by the Commission, the present suit resulted.\n",
      "\n",
      "cluster 5:\n",
      "50 S. Ct. 422 ,\n",
      "cluster 6:\n",
      "See Lahti v. New England Power Ass'n , 1 Cir., 160 F.2d 845, 858 , and Massachusetts Mutual Life Ins.\n",
      "cluster 7:\n",
      "Id. at 1034\n",
      "cluster 8:\n",
      "It is, of course, the general rule that mandamus may not be substituted for appeal.\n",
      "\n",
      "cluster 9:\n",
      "I.\n",
      "cluster 10:\n",
      "483 ,\n",
      "cluster 11:\n",
      "Zenith Radio Corp. , 475 U.S. 574 , 586 , 106 S.Ct. 1348 , 89\n",
      "cluster 12:\n",
      "74 L. Ed. 1051 ; Brewster v. Gage , 280 U. S. 327, 336 , 50 S. Ct.\n",
      "cluster 13:\n",
      "738 (46 USCA 832).\n",
      "\n",
      "cluster 14:\n",
      "[Inc.] 285 F.2d 8, 11\n",
      "cluster 15:\n",
      "(emphasis added))).\n",
      "\n",
      "cluster 16:\n",
      "See Scott County Farm Bureau v. A. & V. Ry.\n",
      "cluster 17:\n",
      "Co., 28 I. C. C. 402;\n",
      "cluster 18:\n",
      " STONE , Circuit Judge.\n",
      "\n",
      "cluster 19:\n",
      "III.\n",
      "\n",
      "cluster 20:\n",
      "[fn44]\n"
     ]
    }
   ],
   "source": [
    "clusters = [[], [], [], [], [], [], [], [], [], [], [], [], [], [], [], [], [], [], [], []]\n",
    "\n",
    "for i, clus in enumerate(kmeans.labels_.tolist()):\n",
    "    clusters[clus].append(sents[i])\n",
    "    \n",
    "for i in range(20):\n",
    "    print(len(clusters[i]))\n",
    "    \n",
    "# cant list 5 ar moment, but one\n",
    "for i in range(20):\n",
    "    print(\"cluster \" + str(i+1) + \":\")\n",
    "    for j in range(1):   # change to 5 if possible\n",
    "        print(clusters[i][j])"
   ]
  }
 ],
 "metadata": {
  "kernelspec": {
   "display_name": "Python 3",
   "language": "python",
   "name": "python3"
  },
  "language_info": {
   "codemirror_mode": {
    "name": "ipython",
    "version": 3
   },
   "file_extension": ".py",
   "mimetype": "text/x-python",
   "name": "python",
   "nbconvert_exporter": "python",
   "pygments_lexer": "ipython3",
   "version": "3.6.1"
  }
 },
 "nbformat": 4,
 "nbformat_minor": 2
}
