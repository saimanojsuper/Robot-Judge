{
 "cells": [
  {
   "cell_type": "markdown",
   "metadata": {},
   "source": [
    "## Building a Robot Judge\n",
    "### Problem Set 2"
   ]
  },
  {
   "cell_type": "code",
   "execution_count": 37,
   "metadata": {},
   "outputs": [],
   "source": [
    "#*************#\n",
    "#   imports   #\n",
    "#*************#\n",
    "\n",
    "import copy\n",
    "import matplotlib.pyplot as plt\n",
    "import numpy as np\n",
    "import pandas as pd\n",
    "\n",
    "from gensim.models.ldamodel import LdaModel\n",
    "\n",
    "from keras.layers import Input, Dense, Dropout\n",
    "from keras.layers.normalization import BatchNormalization\n",
    "from keras.models import Model\n",
    "\n",
    "from math import exp\n",
    "\n",
    "from sklearn.metrics import accuracy_score, confusion_matrix, precision_recall_curve, roc_curve\n",
    "from sklearn.model_selection import cross_val_predict\n",
    "from sklearn.linear_model import ElasticNet, LogisticRegression"
   ]
  },
  {
   "cell_type": "code",
   "execution_count": 2,
   "metadata": {},
   "outputs": [],
   "source": [
    "#************************************************************#\n",
    "#   create 'master' data set, which contains all metadatas   #\n",
    "#************************************************************#\n",
    "cases = pd.read_csv(\"case_metadata.csv\")\n",
    "cases = cases.set_index('caseid').T.to_dict('list')\n",
    "\n",
    "# load frequencies (created in problem set 1)\n",
    "dataSet = np.load(\"dataSet.npy\")\n",
    "\n",
    "caseIds = dataSet[:, 0].tolist()\n",
    "frequencies = dataSet[:, 1:-1].tolist()\n",
    "\n",
    "for i, case in enumerate(caseIds):\n",
    "    cases[case].append(frequencies[i])\n",
    "    \n",
    "# cases is organized as follows: {caseid : [case_reversed, judge_id, year, log_cites, frequency]}\n",
    "dic = {'case_reversed':0, 'judge_id':1, 'year':2, 'log_cites':3, 'frequency':4}"
   ]
  },
  {
   "cell_type": "markdown",
   "metadata": {},
   "source": [
    "### 1."
   ]
  },
  {
   "cell_type": "code",
   "execution_count": 2,
   "metadata": {},
   "outputs": [],
   "source": [
    "####################################################################################################\n",
    "#                                                                                                  #\n",
    "# Take your best-performing logistic regression model from Problem Set 1 (or train a new one).     #\n",
    "# Use cross_val_predict() to form model predictions for each observation. Construct a confusion    #\n",
    "# matrix for the predictions. Report the precision_recall_curve() and roc_curve(). Make a          #\n",
    "# calibration plot (as in Bansak et al 2018, appendix page 24).                                    #\n",
    "#                                                                                                  #\n",
    "####################################################################################################"
   ]
  },
  {
   "cell_type": "code",
   "execution_count": 3,
   "metadata": {},
   "outputs": [],
   "source": [
    "#********************************************#\n",
    "#   create set and split in train and test   #\n",
    "#********************************************#\n",
    "frequencies = []\n",
    "reverses = []\n",
    "\n",
    "for case in caseIds:\n",
    "    freq = cases[case][dic['frequency']:]\n",
    "    if len(freq) > 0:\n",
    "        frequencies.append(freq[0])\n",
    "        reverses.append(cases[case][dic['case_reversed']])\n",
    "\n",
    "trainX = np.array(frequencies)\n",
    "trainY = np.array(reverses)\n",
    "\n",
    "trainX = trainX[: int(len(trainX) * 0.9)]\n",
    "trainY = trainY[: int(len(trainY) * 0.9)]\n",
    "\n",
    "testX = trainX[int(len(trainX) * 0.9) :]\n",
    "testY = trainY[int(len(trainY) * 0.9) :]"
   ]
  },
  {
   "cell_type": "code",
   "execution_count": 5,
   "metadata": {},
   "outputs": [
    {
     "name": "stdout",
     "output_type": "stream",
     "text": [
      "_________________________________________________________________\n",
      "Layer (type)                 Output Shape              Param #   \n",
      "=================================================================\n",
      "input_2 (InputLayer)         (None, 227981)            0         \n",
      "_________________________________________________________________\n",
      "dense_2 (Dense)              (None, 1)                 227982    \n",
      "=================================================================\n",
      "Total params: 227,982\n",
      "Trainable params: 227,982\n",
      "Non-trainable params: 0\n",
      "_________________________________________________________________\n",
      "Train on 360 samples, validate on 90 samples\n",
      "Epoch 1/5\n",
      "360/360 [==============================] - 54s 149ms/step - loss: 0.2870 - acc: 0.5889 - val_loss: 0.3049 - val_acc: 0.5778\n",
      "Epoch 2/5\n",
      "360/360 [==============================] - 46s 126ms/step - loss: 0.0082 - acc: 0.9944 - val_loss: 0.3065 - val_acc: 0.6222\n",
      "Epoch 3/5\n",
      "360/360 [==============================] - 45s 124ms/step - loss: 0.0064 - acc: 0.9944 - val_loss: 0.3070 - val_acc: 0.6222\n",
      "Epoch 4/5\n",
      "360/360 [==============================] - 45s 124ms/step - loss: 0.0057 - acc: 0.9944 - val_loss: 0.3072 - val_acc: 0.6222\n",
      "Epoch 5/5\n",
      "360/360 [==============================] - 45s 125ms/step - loss: 0.0053 - acc: 0.9944 - val_loss: 0.3075 - val_acc: 0.6222\n",
      "45/45 [==============================] - 5s 103ms/step\n",
      "training accuracy: 0.6222222248713175\n",
      "test accuracy: 0.6222222288449605\n"
     ]
    }
   ],
   "source": [
    "#**********************************************************#\n",
    "#   train logistic regression model to predict reversal    #\n",
    "#**********************************************************#\n",
    "x = Input((trainX.shape[1],))\n",
    "y = Dense(1, activation=\"sigmoid\")(x)\n",
    "\n",
    "model = Model(x, y)\n",
    "model.compile(loss=\"mean_squared_error\", optimizer=\"adam\", metrics=[\"accuracy\"])\n",
    "\n",
    "model.summary()\n",
    "\n",
    "# train model\n",
    "history = model.fit(x=trainX, y=trainY, batch_size=16, epochs=5,\n",
    "                    validation_split=0.2)\n",
    "# test model\n",
    "accuracy = model.evaluate(testX, testY, batch_size=16)\n",
    "\n",
    "print(\"training accuracy:\", history.history['val_acc'][-1])\n",
    "print(\"test accuracy:\", accuracy[1])"
   ]
  },
  {
   "cell_type": "code",
   "execution_count": 6,
   "metadata": {},
   "outputs": [],
   "source": [
    "#****************************************#\n",
    "#   form model predictions with model    #\n",
    "#****************************************#\n",
    "#yPred = cross_val_predict(model, testX.reshape(-1, 1), testY.reshape(-1, 1))\n",
    "\n",
    "yScores = model.predict(testX).ravel()\n",
    "yPred = (yScores > 0.5).astype(np.int)    # convert to int\n",
    "yTrue = [int(testY[i]) for i in range(len(testY))]"
   ]
  },
  {
   "cell_type": "code",
   "execution_count": 7,
   "metadata": {},
   "outputs": [
    {
     "name": "stdout",
     "output_type": "stream",
     "text": [
      "[[ 1 14]\n",
      " [ 3 27]]\n"
     ]
    }
   ],
   "source": [
    "#******************************#\n",
    "#   create confusion matrix    #\n",
    "#******************************#\n",
    "matrix = confusion_matrix(testY.reshape(-1, 1), yPred.reshape(-1, 1))\n",
    "\n",
    "print(matrix)"
   ]
  },
  {
   "cell_type": "code",
   "execution_count": 8,
   "metadata": {},
   "outputs": [
    {
     "data": {
      "image/png": "[encoded data removed]",
      "text/plain": [
       "<Figure size 432x288 with 1 Axes>"
      ]
     },
     "metadata": {
      "needs_background": "light"
     },
     "output_type": "display_data"
    },
    {
     "data": {
      "image/png": "[encoded data removed]",
      "text/plain": [
       "<Figure size 432x288 with 1 Axes>"
      ]
     },
     "metadata": {
      "needs_background": "light"
     },
     "output_type": "display_data"
    }
   ],
   "source": [
    "#***********************************************#\n",
    "#   report the precision recall and roc curve   #\n",
    "#***********************************************#\n",
    "precision, recall, thresholds = precision_recall_curve(yTrue, yScores)\n",
    "fpr, tpr, thresholds = roc_curve(yTrue, yPred, pos_label=1)\n",
    "\n",
    "# precision recall curve\n",
    "plt.figure()\n",
    "plt.plot([0, 1], [0.5, 0.5], linestyle='--')   # plot no skill\n",
    "plt.plot(recall, precision)\n",
    "plt.title('precision recall curve')\n",
    "plt.show()\n",
    "\n",
    "# roc curve\n",
    "# TODO: why weird? maybe freq...\n",
    "plt.figure()\n",
    "plt.plot([0, 1], [0, 1], linestyle='--')\n",
    "plt.plot(fpr, tpr)\n",
    "plt.xlabel('False positive rate')\n",
    "plt.ylabel('True positive rate')\n",
    "plt.title('ROC curve')\n",
    "plt.show()\n",
    "\n",
    "\n",
    "# TODO: calibration plot"
   ]
  },
  {
   "cell_type": "markdown",
   "metadata": {},
   "source": [
    "### 2."
   ]
  },
  {
   "cell_type": "code",
   "execution_count": null,
   "metadata": {},
   "outputs": [],
   "source": [
    "####################################################################################################\n",
    "#                                                                                                  #\n",
    "# Scale your n-gram frequencies while maintaining sparsity, as discussed in class. Train an        #\n",
    "# elastic net model to predict log citations to a case (log_cites). Run cross_val_predict() to     #\n",
    "# form model predictions and report a scatter plot of true and predicted values.                   #\n",
    "#                                                                                                  #\n",
    "####################################################################################################"
   ]
  },
  {
   "cell_type": "code",
   "execution_count": null,
   "metadata": {},
   "outputs": [],
   "source": [
    "#*******************************************************#\n",
    "#   scale your n-gram frequencies (maintain sparsity)   #\n",
    "#*******************************************************#\n",
    "\n",
    "# Not sure what to do here...\n",
    "# The frequencies are already normalized and standardize (while maintain sparsity \n",
    "# by not taking out the mean)."
   ]
  },
  {
   "cell_type": "code",
   "execution_count": 10,
   "metadata": {},
   "outputs": [],
   "source": [
    "#********************************************#\n",
    "#   create set and split in train and test   #\n",
    "#********************************************#\n",
    "logCites = []\n",
    "eNetFreq = []\n",
    "\n",
    "for case in caseIds:\n",
    "    logCite = cases[case][dic['log_cites']]\n",
    "    freq = cases[case][dic['frequency']:]\n",
    "    \n",
    "    # remove nan entries\n",
    "    if str(logCite) != 'nan' and len(freq) > 0:\n",
    "        eNetFreq.append(freq[0])\n",
    "        logCites.append(logCite)\n",
    "\n",
    "trainX = np.array(eNetFreq)\n",
    "trainY = np.array(logCites)\n",
    "\n",
    "trainX = trainX[: int(len(trainX) * 0.9)]\n",
    "trainY = trainY[: int(len(trainY) * 0.9)]\n",
    "\n",
    "testX = trainX[int(len(trainX) * 0.9) :]\n",
    "testY = trainY[int(len(trainY) * 0.9) :]"
   ]
  },
  {
   "cell_type": "code",
   "execution_count": 14,
   "metadata": {},
   "outputs": [
    {
     "data": {
      "text/plain": [
       "ElasticNet(alpha=0.1, copy_X=True, fit_intercept=True, l1_ratio=0.5,\n",
       "      max_iter=1000, normalize=False, positive=False, precompute=False,\n",
       "      random_state=None, selection='cyclic', tol=0.0001, warm_start=False)"
      ]
     },
     "execution_count": 14,
     "metadata": {},
     "output_type": "execute_result"
    }
   ],
   "source": [
    "#*********************************************************#\n",
    "#   train an elastic net model to predict log citations   #\n",
    "#*********************************************************#\n",
    "elasticNet = ElasticNet(alpha=0.1, l1_ratio=0.5)\n",
    "elasticNet.fit(trainX, trainY)"
   ]
  },
  {
   "cell_type": "code",
   "execution_count": 28,
   "metadata": {
    "scrolled": true
   },
   "outputs": [
    {
     "data": {
      "image/png": "[encoded data removed]",
      "text/plain": [
       "<Figure size 432x288 with 1 Axes>"
      ]
     },
     "metadata": {
      "needs_background": "light"
     },
     "output_type": "display_data"
    }
   ],
   "source": [
    "#******************************************************#\n",
    "#   form model predictions and report a scatter plot   #\n",
    "#******************************************************#\n",
    "preds = elasticNet.predict(testX.astype('float'))\n",
    "\n",
    "plt.scatter(range(len(preds)), preds, c='r', label='predictions')\n",
    "plt.scatter(range(len(testY)), testY, c='g', label='ground truth')\n",
    "plt.legend(loc='upper right')\n",
    "plt.show()"
   ]
  },
  {
   "cell_type": "markdown",
   "metadata": {},
   "source": [
    "### 3."
   ]
  },
  {
   "cell_type": "code",
   "execution_count": null,
   "metadata": {},
   "outputs": [],
   "source": [
    "####################################################################################################\n",
    "#                                                                                                  #\n",
    "# Use the judge identifiers (judge_id) to produce the average citations to cases for each judge.   #\n",
    "# Then estimate a two-stage least-squares model with Z as average citations of the judge, X as     #\n",
    "# citations to the case, and Y as whether the case was reversed. Include year fixed effects.       #\n",
    "# Report estimates for coefficient and standard error on X.                                        #\n",
    "#                                                                                                  #\n",
    "####################################################################################################"
   ]
  },
  {
   "cell_type": "code",
   "execution_count": 29,
   "metadata": {},
   "outputs": [],
   "source": [
    "#***********************************************************#\n",
    "#   produce the average citations to cases for each judge   #\n",
    "#***********************************************************#\n",
    "avgCitJudge = {cases[case][dic['judge_id']] : [] for case in caseIds \n",
    "               if str(cases[case][dic['judge_id']]) != 'nan'}\n",
    "\n",
    "# sum up all log cites of each judge\n",
    "for case in caseIds:\n",
    "    logCite = cases[case][dic['log_cites']]\n",
    "    \n",
    "    # remove nan entries\n",
    "    if str(logCite) != 'nan':\n",
    "        avgCitJudge[cases[case][dic['judge_id']]].append(logCite)\n",
    "\n",
    "\n",
    "# calculate average citations to cases for each judge\n",
    "for key, value in copy.copy(avgCitJudge).items():\n",
    "    \n",
    "    # remove judges with no cites\n",
    "    if len(value) == 0:\n",
    "        del avgCitJudge[key]\n",
    "    else:\n",
    "        # log_cites, log(1 + citations that a case received from other courts)\n",
    "        avgCitJudge[key] = np.mean([exp(elem) - 1 for elem in value])"
   ]
  },
  {
   "cell_type": "code",
   "execution_count": null,
   "metadata": {},
   "outputs": [],
   "source": [
    "#**********************************************#\n",
    "#   estimate a two-stage least-squares model   #\n",
    "#**********************************************#"
   ]
  },
  {
   "cell_type": "markdown",
   "metadata": {},
   "source": [
    "### 4."
   ]
  },
  {
   "cell_type": "code",
   "execution_count": null,
   "metadata": {},
   "outputs": [],
   "source": [
    "####################################################################################################\n",
    "#                                                                                                  #\n",
    "# Train LDA on the cases. Produce word clouds for the topics. Inspect the word clouds for          #\n",
    "# different models to decide on the right number of topics.                                        #\n",
    "#                                                                                                  #\n",
    "####################################################################################################"
   ]
  },
  {
   "cell_type": "code",
   "execution_count": 43,
   "metadata": {},
   "outputs": [
    {
     "ename": "SyntaxError",
     "evalue": "invalid syntax (<ipython-input-43-c048e5b21553>, line 4)",
     "output_type": "error",
     "traceback": [
      "\u001b[0;36m  File \u001b[0;32m\"<ipython-input-43-c048e5b21553>\"\u001b[0;36m, line \u001b[0;32m4\u001b[0m\n\u001b[0;31m    lda = LdaModel(, num_topics=10, id2word=dictionary, passes=3)\u001b[0m\n\u001b[0m                   ^\u001b[0m\n\u001b[0;31mSyntaxError\u001b[0m\u001b[0;31m:\u001b[0m invalid syntax\n"
     ]
    }
   ],
   "source": [
    "#*********************************************#\n",
    "#   train Latent Dirichlet Allocation (LDA)   #\n",
    "#*********************************************#\n",
    "lda = LdaModel(, num_topics=10, id2word=dictionary, passes=3)\n",
    "lda.show_topics(formatted=False)"
   ]
  },
  {
   "cell_type": "markdown",
   "metadata": {},
   "source": [
    "### 5."
   ]
  },
  {
   "cell_type": "code",
   "execution_count": null,
   "metadata": {},
   "outputs": [],
   "source": [
    "####################################################################################################\n",
    "#                                                                                                  #\n",
    "# Replicate your sklearn logistic regression model (no hidden layers, L2 regularization, and       #\n",
    "# softmax output layer) in Keras or some other deep learning library. Compare performance.         #\n",
    "# Now add two hidden layers, dropout, and batch normalization. Compare performance.                #\n",
    "#                                                                                                  #\n",
    "####################################################################################################"
   ]
  },
  {
   "cell_type": "code",
   "execution_count": 32,
   "metadata": {},
   "outputs": [],
   "source": [
    "# I am not sure which model is ment here, but I'll assume, the LogisticRegression model \n",
    "# to predict reversal.\n",
    "\n",
    "frequencies = []\n",
    "reverses = []\n",
    "\n",
    "for case in caseIds:\n",
    "    freq = cases[case][dic['frequency']:]\n",
    "    if len(freq) > 0:\n",
    "        frequencies.append(freq[0])\n",
    "        reverses.append(cases[case][dic['case_reversed']])\n",
    "\n",
    "trainX = np.array(frequencies)\n",
    "trainY = np.array(reverses)\n",
    "\n",
    "trainX = trainX[: int(len(trainX) * 0.9)]\n",
    "trainY = trainY[: int(len(trainY) * 0.9)]\n",
    "\n",
    "testX = trainX[int(len(trainX) * 0.9) :]\n",
    "testY = trainY[int(len(trainY) * 0.9) :]"
   ]
  },
  {
   "cell_type": "code",
   "execution_count": 45,
   "metadata": {},
   "outputs": [
    {
     "name": "stdout",
     "output_type": "stream",
     "text": [
      "test accuracy model: 0.6222222288449605\n"
     ]
    },
    {
     "name": "stderr",
     "output_type": "stream",
     "text": [
      "/Library/Frameworks/Python.framework/Versions/3.6/lib/python3.6/site-packages/sklearn/linear_model/logistic.py:433: FutureWarning: Default solver will be changed to 'lbfgs' in 0.22. Specify a solver to silence this warning.\n",
      "  FutureWarning)\n"
     ]
    },
    {
     "name": "stdout",
     "output_type": "stream",
     "text": [
      "test accuracy sklearn model: 1.0\n"
     ]
    }
   ],
   "source": [
    "print(\"test accuracy model:\", accuracy[1])\n",
    "\n",
    "# As I already used Keras in the tasks before, I will now use the sklearn logistic regression\n",
    "# model and compare it with my Keras model. Then I will add (to the Keras model) two hidden layers, \n",
    "# dropout, and batch normalization and compare again.\n",
    "\n",
    "#*******************#\n",
    "#   sklearn model   #\n",
    "#*******************#\n",
    "sklearnModel = LogisticRegression()\n",
    "sklearnModel.fit(trainX, trainY)\n",
    "\n",
    "predY = sklearnModel.predict(testX.astype('float'))\n",
    "\n",
    "# test accuracy\n",
    "sklearnAcc = accuracy_score(testY, predY)\n",
    "\n",
    "print(\"test accuracy sklearn model:\", sklearnAcc)"
   ]
  },
  {
   "cell_type": "code",
   "execution_count": 44,
   "metadata": {},
   "outputs": [
    {
     "name": "stdout",
     "output_type": "stream",
     "text": [
      "Train on 360 samples, validate on 90 samples\n",
      "Epoch 1/5\n",
      "360/360 [==============================] - 64s 176ms/step - loss: 0.3088 - acc: 0.4917 - val_loss: 0.2695 - val_acc: 0.6111\n",
      "Epoch 2/5\n",
      "360/360 [==============================] - 54s 149ms/step - loss: 0.1328 - acc: 0.8167 - val_loss: 0.2192 - val_acc: 0.6889\n",
      "Epoch 3/5\n",
      "360/360 [==============================] - 52s 146ms/step - loss: 0.1016 - acc: 0.8639 - val_loss: 0.2225 - val_acc: 0.6889\n",
      "Epoch 4/5\n",
      "360/360 [==============================] - 50s 138ms/step - loss: 0.0801 - acc: 0.9194 - val_loss: 0.2211 - val_acc: 0.6889\n",
      "Epoch 5/5\n",
      "360/360 [==============================] - 51s 141ms/step - loss: 0.0624 - acc: 0.9417 - val_loss: 0.2234 - val_acc: 0.6889\n",
      "45/45 [==============================] - 4s 99ms/step\n",
      "0.6666666719648573\n"
     ]
    }
   ],
   "source": [
    "#************************#\n",
    "#   better Keras model   #\n",
    "#************************#\n",
    "x = Input((trainX.shape[1],))\n",
    "y = Dense(100, activation=\"relu\")(x)\n",
    "y = Dropout(0.1)(y)\n",
    "y = Dense(100, activation=\"relu\")(y)\n",
    "y = BatchNormalization()(y)\n",
    "y = Dropout(0.1)(y)\n",
    "y = Dense(1, activation=\"sigmoid\")(y)\n",
    "\n",
    "betterModel = Model(x, y)\n",
    "betterModel.compile(loss=\"mean_squared_error\", optimizer=\"adam\", metrics=[\"accuracy\"])\n",
    "\n",
    "# train model\n",
    "history = betterModel.fit(x=trainX, y=trainY, batch_size=16, epochs=5, validation_split=0.2)\n",
    "\n",
    "# test model\n",
    "betterAcc = betterModel.evaluate(testX, testY, batch_size=16)\n",
    "\n",
    "print(\"test accuracy better model:\", betterAcc[1])"
   ]
  }
 ],
 "metadata": {
  "kernelspec": {
   "display_name": "Python 3",
   "language": "python",
   "name": "python3"
  },
  "language_info": {
   "codemirror_mode": {
    "name": "ipython",
    "version": 3
   },
   "file_extension": ".py",
   "mimetype": "text/x-python",
   "name": "python",
   "nbconvert_exporter": "python",
   "pygments_lexer": "ipython3",
   "version": "3.6.1"
  }
 },
 "nbformat": 4,
 "nbformat_minor": 2
}
